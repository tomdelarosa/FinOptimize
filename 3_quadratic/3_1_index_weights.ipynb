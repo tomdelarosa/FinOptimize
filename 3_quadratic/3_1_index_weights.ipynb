{
 "cells": [
  {
   "cell_type": "markdown",
   "metadata": {},
   "source": [
    "## Optimización Cuadrática\n",
    "### Estimación de Pesos de un Indice Bursátil\n",
    "Este cuaderno muestra un ejemplo de como utilizar una\n",
    "optimización de mínimos cuadrados con restricciones para estimar\n",
    "los pesos de los componentes del IBEX35"
   ]
  },
  {
   "cell_type": "code",
   "execution_count": 25,
   "metadata": {},
   "outputs": [],
   "source": [
    "import os, sys\n",
    "import pandas as pd\n",
    "import numpy as np\n",
    "import cvxpy as cp"
   ]
  },
  {
   "cell_type": "code",
   "execution_count": 3,
   "metadata": {},
   "outputs": [],
   "source": [
    "import pickle\n",
    "with open('../data/stock_data.pkl','rb') as f:\n",
    "    stock_data = pickle.load(f)\n",
    "with open('../data/benchmark.pkl','rb') as f:\n",
    "    benchmark_data = pickle.load(f)\n",
    "    "
   ]
  },
  {
   "cell_type": "code",
   "execution_count": 67,
   "metadata": {},
   "outputs": [],
   "source": [
    "stock_close = pd.DataFrame({\n",
    "    ticker: df.close for ticker, df in stock_data.items()\n",
    "})"
   ]
  },
  {
   "cell_type": "code",
   "execution_count": 68,
   "metadata": {},
   "outputs": [
    {
     "data": {
      "text/html": [
       "<div>\n",
       "<style scoped>\n",
       "    .dataframe tbody tr th:only-of-type {\n",
       "        vertical-align: middle;\n",
       "    }\n",
       "\n",
       "    .dataframe tbody tr th {\n",
       "        vertical-align: top;\n",
       "    }\n",
       "\n",
       "    .dataframe thead th {\n",
       "        text-align: right;\n",
       "    }\n",
       "</style>\n",
       "<table border=\"1\" class=\"dataframe\">\n",
       "  <thead>\n",
       "    <tr style=\"text-align: right;\">\n",
       "      <th></th>\n",
       "      <th>SAN</th>\n",
       "      <th>BTO_1</th>\n",
       "      <th>BKIA_0</th>\n",
       "      <th>BKIA</th>\n",
       "      <th>NTGY</th>\n",
       "      <th>TRE</th>\n",
       "      <th>ACX_0</th>\n",
       "      <th>ACX</th>\n",
       "      <th>FER</th>\n",
       "      <th>ACS</th>\n",
       "      <th>...</th>\n",
       "      <th>DRC</th>\n",
       "      <th>PRS_0</th>\n",
       "      <th>PRS_1</th>\n",
       "      <th>SCYR_0</th>\n",
       "      <th>TEM</th>\n",
       "      <th>CAR</th>\n",
       "      <th>AGS</th>\n",
       "      <th>COL_0</th>\n",
       "      <th>A3TV</th>\n",
       "      <th>SGC</th>\n",
       "    </tr>\n",
       "  </thead>\n",
       "  <tbody>\n",
       "    <tr>\n",
       "      <th>2003-01-02</th>\n",
       "      <td>2.251615</td>\n",
       "      <td>NaN</td>\n",
       "      <td>NaN</td>\n",
       "      <td>NaN</td>\n",
       "      <td>7.363463</td>\n",
       "      <td>NaN</td>\n",
       "      <td>4.761374</td>\n",
       "      <td>NaN</td>\n",
       "      <td>NaN</td>\n",
       "      <td>4.815096</td>\n",
       "      <td>...</td>\n",
       "      <td>16.50</td>\n",
       "      <td>49.590521</td>\n",
       "      <td>NaN</td>\n",
       "      <td>4.732566</td>\n",
       "      <td>5.88</td>\n",
       "      <td>NaN</td>\n",
       "      <td>NaN</td>\n",
       "      <td>NaN</td>\n",
       "      <td>NaN</td>\n",
       "      <td>9.35</td>\n",
       "    </tr>\n",
       "    <tr>\n",
       "      <th>2003-01-03</th>\n",
       "      <td>2.166648</td>\n",
       "      <td>NaN</td>\n",
       "      <td>NaN</td>\n",
       "      <td>NaN</td>\n",
       "      <td>7.270788</td>\n",
       "      <td>NaN</td>\n",
       "      <td>4.865828</td>\n",
       "      <td>NaN</td>\n",
       "      <td>NaN</td>\n",
       "      <td>4.815096</td>\n",
       "      <td>...</td>\n",
       "      <td>16.84</td>\n",
       "      <td>48.960800</td>\n",
       "      <td>NaN</td>\n",
       "      <td>4.740697</td>\n",
       "      <td>5.87</td>\n",
       "      <td>NaN</td>\n",
       "      <td>NaN</td>\n",
       "      <td>NaN</td>\n",
       "      <td>NaN</td>\n",
       "      <td>9.36</td>\n",
       "    </tr>\n",
       "    <tr>\n",
       "      <th>2003-01-07</th>\n",
       "      <td>2.251615</td>\n",
       "      <td>NaN</td>\n",
       "      <td>NaN</td>\n",
       "      <td>NaN</td>\n",
       "      <td>7.388738</td>\n",
       "      <td>NaN</td>\n",
       "      <td>4.778783</td>\n",
       "      <td>NaN</td>\n",
       "      <td>NaN</td>\n",
       "      <td>4.815096</td>\n",
       "      <td>...</td>\n",
       "      <td>16.29</td>\n",
       "      <td>48.488510</td>\n",
       "      <td>NaN</td>\n",
       "      <td>4.667513</td>\n",
       "      <td>6.03</td>\n",
       "      <td>NaN</td>\n",
       "      <td>NaN</td>\n",
       "      <td>NaN</td>\n",
       "      <td>NaN</td>\n",
       "      <td>9.19</td>\n",
       "    </tr>\n",
       "    <tr>\n",
       "      <th>2003-01-08</th>\n",
       "      <td>2.251615</td>\n",
       "      <td>NaN</td>\n",
       "      <td>NaN</td>\n",
       "      <td>NaN</td>\n",
       "      <td>7.582514</td>\n",
       "      <td>NaN</td>\n",
       "      <td>4.717851</td>\n",
       "      <td>NaN</td>\n",
       "      <td>NaN</td>\n",
       "      <td>4.905021</td>\n",
       "      <td>...</td>\n",
       "      <td>16.31</td>\n",
       "      <td>48.016219</td>\n",
       "      <td>NaN</td>\n",
       "      <td>4.651250</td>\n",
       "      <td>6.02</td>\n",
       "      <td>NaN</td>\n",
       "      <td>NaN</td>\n",
       "      <td>NaN</td>\n",
       "      <td>NaN</td>\n",
       "      <td>8.83</td>\n",
       "    </tr>\n",
       "    <tr>\n",
       "      <th>2003-01-09</th>\n",
       "      <td>2.251615</td>\n",
       "      <td>NaN</td>\n",
       "      <td>NaN</td>\n",
       "      <td>NaN</td>\n",
       "      <td>7.641489</td>\n",
       "      <td>NaN</td>\n",
       "      <td>4.752669</td>\n",
       "      <td>NaN</td>\n",
       "      <td>NaN</td>\n",
       "      <td>4.913196</td>\n",
       "      <td>...</td>\n",
       "      <td>16.51</td>\n",
       "      <td>47.543928</td>\n",
       "      <td>NaN</td>\n",
       "      <td>4.708171</td>\n",
       "      <td>6.13</td>\n",
       "      <td>NaN</td>\n",
       "      <td>NaN</td>\n",
       "      <td>NaN</td>\n",
       "      <td>NaN</td>\n",
       "      <td>9.26</td>\n",
       "    </tr>\n",
       "  </tbody>\n",
       "</table>\n",
       "<p>5 rows × 82 columns</p>\n",
       "</div>"
      ],
      "text/plain": [
       "                 SAN  BTO_1  BKIA_0  BKIA      NTGY  TRE     ACX_0  ACX  FER  \\\n",
       "2003-01-02  2.251615    NaN     NaN   NaN  7.363463  NaN  4.761374  NaN  NaN   \n",
       "2003-01-03  2.166648    NaN     NaN   NaN  7.270788  NaN  4.865828  NaN  NaN   \n",
       "2003-01-07  2.251615    NaN     NaN   NaN  7.388738  NaN  4.778783  NaN  NaN   \n",
       "2003-01-08  2.251615    NaN     NaN   NaN  7.582514  NaN  4.717851  NaN  NaN   \n",
       "2003-01-09  2.251615    NaN     NaN   NaN  7.641489  NaN  4.752669  NaN  NaN   \n",
       "\n",
       "                 ACS  ...    DRC      PRS_0  PRS_1    SCYR_0   TEM  CAR  AGS  \\\n",
       "2003-01-02  4.815096  ...  16.50  49.590521    NaN  4.732566  5.88  NaN  NaN   \n",
       "2003-01-03  4.815096  ...  16.84  48.960800    NaN  4.740697  5.87  NaN  NaN   \n",
       "2003-01-07  4.815096  ...  16.29  48.488510    NaN  4.667513  6.03  NaN  NaN   \n",
       "2003-01-08  4.905021  ...  16.31  48.016219    NaN  4.651250  6.02  NaN  NaN   \n",
       "2003-01-09  4.913196  ...  16.51  47.543928    NaN  4.708171  6.13  NaN  NaN   \n",
       "\n",
       "            COL_0  A3TV   SGC  \n",
       "2003-01-02    NaN   NaN  9.35  \n",
       "2003-01-03    NaN   NaN  9.36  \n",
       "2003-01-07    NaN   NaN  9.19  \n",
       "2003-01-08    NaN   NaN  8.83  \n",
       "2003-01-09    NaN   NaN  9.26  \n",
       "\n",
       "[5 rows x 82 columns]"
      ]
     },
     "execution_count": 68,
     "metadata": {},
     "output_type": "execute_result"
    }
   ],
   "source": [
    "stock_close.head()"
   ]
  },
  {
   "cell_type": "markdown",
   "metadata": {},
   "source": [
    "Trabajaremos con una ventana de 35 dias para simular una matriz cuadrada\n",
    "de 35x35 que sería suficiente para resolver el problema de minimos cuadrados\n",
    "de forma algebraica"
   ]
  },
  {
   "cell_type": "code",
   "execution_count": 73,
   "metadata": {},
   "outputs": [],
   "source": [
    "win_data = stock_close.loc['2020-07-06':'2020-08-21']\n",
    "win_data = win_data.dropna(axis=1)"
   ]
  },
  {
   "cell_type": "code",
   "execution_count": 74,
   "metadata": {},
   "outputs": [
    {
     "name": "stdout",
     "output_type": "stream",
     "text": [
      "(35, 35)\n"
     ]
    },
    {
     "data": {
      "text/html": [
       "<div>\n",
       "<style scoped>\n",
       "    .dataframe tbody tr th:only-of-type {\n",
       "        vertical-align: middle;\n",
       "    }\n",
       "\n",
       "    .dataframe tbody tr th {\n",
       "        vertical-align: top;\n",
       "    }\n",
       "\n",
       "    .dataframe thead th {\n",
       "        text-align: right;\n",
       "    }\n",
       "</style>\n",
       "<table border=\"1\" class=\"dataframe\">\n",
       "  <thead>\n",
       "    <tr style=\"text-align: right;\">\n",
       "      <th></th>\n",
       "      <th>SAN</th>\n",
       "      <th>BKIA</th>\n",
       "      <th>NTGY</th>\n",
       "      <th>ACX</th>\n",
       "      <th>FER</th>\n",
       "      <th>ACS</th>\n",
       "      <th>ELE</th>\n",
       "      <th>SAB</th>\n",
       "      <th>AMS</th>\n",
       "      <th>AENA</th>\n",
       "      <th>...</th>\n",
       "      <th>BKT</th>\n",
       "      <th>ENC</th>\n",
       "      <th>IDR</th>\n",
       "      <th>SGRE</th>\n",
       "      <th>MEL</th>\n",
       "      <th>REE</th>\n",
       "      <th>COL</th>\n",
       "      <th>TEF</th>\n",
       "      <th>CABK</th>\n",
       "      <th>ALM</th>\n",
       "    </tr>\n",
       "  </thead>\n",
       "  <tbody>\n",
       "    <tr>\n",
       "      <th>2020-07-06</th>\n",
       "      <td>2.3370</td>\n",
       "      <td>1.0715</td>\n",
       "      <td>16.683576</td>\n",
       "      <td>7.390</td>\n",
       "      <td>24.24</td>\n",
       "      <td>23.89</td>\n",
       "      <td>23.45</td>\n",
       "      <td>0.3360</td>\n",
       "      <td>48.78</td>\n",
       "      <td>126.6</td>\n",
       "      <td>...</td>\n",
       "      <td>4.414</td>\n",
       "      <td>2.934</td>\n",
       "      <td>7.27</td>\n",
       "      <td>16.201796</td>\n",
       "      <td>4.054</td>\n",
       "      <td>17.145</td>\n",
       "      <td>8.197825</td>\n",
       "      <td>4.211</td>\n",
       "      <td>2.0780</td>\n",
       "      <td>11.70</td>\n",
       "    </tr>\n",
       "    <tr>\n",
       "      <th>2020-07-07</th>\n",
       "      <td>2.2675</td>\n",
       "      <td>1.0460</td>\n",
       "      <td>16.683576</td>\n",
       "      <td>7.426</td>\n",
       "      <td>24.08</td>\n",
       "      <td>23.40</td>\n",
       "      <td>23.51</td>\n",
       "      <td>0.3302</td>\n",
       "      <td>48.55</td>\n",
       "      <td>124.4</td>\n",
       "      <td>...</td>\n",
       "      <td>4.323</td>\n",
       "      <td>2.815</td>\n",
       "      <td>7.20</td>\n",
       "      <td>16.481052</td>\n",
       "      <td>3.912</td>\n",
       "      <td>16.930</td>\n",
       "      <td>7.910096</td>\n",
       "      <td>4.075</td>\n",
       "      <td>2.0150</td>\n",
       "      <td>11.71</td>\n",
       "    </tr>\n",
       "    <tr>\n",
       "      <th>2020-07-08</th>\n",
       "      <td>2.2160</td>\n",
       "      <td>1.0240</td>\n",
       "      <td>16.560902</td>\n",
       "      <td>7.242</td>\n",
       "      <td>23.41</td>\n",
       "      <td>23.13</td>\n",
       "      <td>23.63</td>\n",
       "      <td>0.3157</td>\n",
       "      <td>47.05</td>\n",
       "      <td>122.2</td>\n",
       "      <td>...</td>\n",
       "      <td>4.198</td>\n",
       "      <td>2.812</td>\n",
       "      <td>7.07</td>\n",
       "      <td>16.431185</td>\n",
       "      <td>3.824</td>\n",
       "      <td>16.915</td>\n",
       "      <td>7.810000</td>\n",
       "      <td>4.000</td>\n",
       "      <td>1.9755</td>\n",
       "      <td>11.51</td>\n",
       "    </tr>\n",
       "    <tr>\n",
       "      <th>2020-07-09</th>\n",
       "      <td>2.1745</td>\n",
       "      <td>1.0180</td>\n",
       "      <td>16.330276</td>\n",
       "      <td>7.174</td>\n",
       "      <td>23.12</td>\n",
       "      <td>22.78</td>\n",
       "      <td>23.41</td>\n",
       "      <td>0.3117</td>\n",
       "      <td>45.07</td>\n",
       "      <td>120.0</td>\n",
       "      <td>...</td>\n",
       "      <td>4.128</td>\n",
       "      <td>2.758</td>\n",
       "      <td>6.92</td>\n",
       "      <td>17.079456</td>\n",
       "      <td>3.688</td>\n",
       "      <td>16.900</td>\n",
       "      <td>7.745000</td>\n",
       "      <td>3.950</td>\n",
       "      <td>1.9515</td>\n",
       "      <td>11.45</td>\n",
       "    </tr>\n",
       "    <tr>\n",
       "      <th>2020-07-10</th>\n",
       "      <td>2.2200</td>\n",
       "      <td>1.0580</td>\n",
       "      <td>16.448043</td>\n",
       "      <td>7.246</td>\n",
       "      <td>23.21</td>\n",
       "      <td>23.79</td>\n",
       "      <td>23.86</td>\n",
       "      <td>0.3264</td>\n",
       "      <td>45.74</td>\n",
       "      <td>120.0</td>\n",
       "      <td>...</td>\n",
       "      <td>4.274</td>\n",
       "      <td>2.850</td>\n",
       "      <td>6.88</td>\n",
       "      <td>17.263964</td>\n",
       "      <td>3.718</td>\n",
       "      <td>16.900</td>\n",
       "      <td>7.895000</td>\n",
       "      <td>3.999</td>\n",
       "      <td>1.9940</td>\n",
       "      <td>11.36</td>\n",
       "    </tr>\n",
       "  </tbody>\n",
       "</table>\n",
       "<p>5 rows × 35 columns</p>\n",
       "</div>"
      ],
      "text/plain": [
       "               SAN    BKIA       NTGY    ACX    FER    ACS    ELE     SAB  \\\n",
       "2020-07-06  2.3370  1.0715  16.683576  7.390  24.24  23.89  23.45  0.3360   \n",
       "2020-07-07  2.2675  1.0460  16.683576  7.426  24.08  23.40  23.51  0.3302   \n",
       "2020-07-08  2.2160  1.0240  16.560902  7.242  23.41  23.13  23.63  0.3157   \n",
       "2020-07-09  2.1745  1.0180  16.330276  7.174  23.12  22.78  23.41  0.3117   \n",
       "2020-07-10  2.2200  1.0580  16.448043  7.246  23.21  23.79  23.86  0.3264   \n",
       "\n",
       "              AMS   AENA  ...    BKT    ENC   IDR       SGRE    MEL     REE  \\\n",
       "2020-07-06  48.78  126.6  ...  4.414  2.934  7.27  16.201796  4.054  17.145   \n",
       "2020-07-07  48.55  124.4  ...  4.323  2.815  7.20  16.481052  3.912  16.930   \n",
       "2020-07-08  47.05  122.2  ...  4.198  2.812  7.07  16.431185  3.824  16.915   \n",
       "2020-07-09  45.07  120.0  ...  4.128  2.758  6.92  17.079456  3.688  16.900   \n",
       "2020-07-10  45.74  120.0  ...  4.274  2.850  6.88  17.263964  3.718  16.900   \n",
       "\n",
       "                 COL    TEF    CABK    ALM  \n",
       "2020-07-06  8.197825  4.211  2.0780  11.70  \n",
       "2020-07-07  7.910096  4.075  2.0150  11.71  \n",
       "2020-07-08  7.810000  4.000  1.9755  11.51  \n",
       "2020-07-09  7.745000  3.950  1.9515  11.45  \n",
       "2020-07-10  7.895000  3.999  1.9940  11.36  \n",
       "\n",
       "[5 rows x 35 columns]"
      ]
     },
     "execution_count": 74,
     "metadata": {},
     "output_type": "execute_result"
    }
   ],
   "source": [
    "print(win_data.shape)\n",
    "win_data.head()"
   ]
  },
  {
   "cell_type": "code",
   "execution_count": 75,
   "metadata": {},
   "outputs": [
    {
     "data": {
      "text/plain": [
       "2020-07-06    22408.0\n",
       "2020-07-07    22099.5\n",
       "2020-07-08    21825.6\n",
       "2020-07-09    21559.0\n",
       "2020-07-10    21809.7\n",
       "Name: close, dtype: float64"
      ]
     },
     "execution_count": 75,
     "metadata": {},
     "output_type": "execute_result"
    }
   ],
   "source": [
    "ibex_close = benchmark_data['ibex_div'].close\n",
    "win_ibex = ibex_close.reindex(win_data.index)\n",
    "win_ibex.head()"
   ]
  },
  {
   "cell_type": "markdown",
   "metadata": {},
   "source": [
    "Convertimos los precios a precios relativos respecto al primer\n",
    "día de la ventana "
   ]
  },
  {
   "cell_type": "code",
   "execution_count": 76,
   "metadata": {},
   "outputs": [],
   "source": [
    "prices_norm = win_data.apply(lambda s: s/s.iloc[0])\n",
    "ibex_norm = win_ibex/win_ibex.iloc[0]"
   ]
  },
  {
   "cell_type": "markdown",
   "metadata": {},
   "source": [
    "#### Las variables de decisión\n",
    "- los pesos de cada componente\n",
    "- el término de error para cada día"
   ]
  },
  {
   "cell_type": "code",
   "execution_count": 77,
   "metadata": {},
   "outputs": [],
   "source": [
    "window = 35\n",
    "n_stocks = prices_norm.shape[1]\n",
    "var_w = cp.Variable(n_stocks)\n",
    "var_epsilon = cp.Variable(window)"
   ]
  },
  {
   "cell_type": "markdown",
   "metadata": {},
   "source": [
    "#### Restricciones\n",
    "\n",
    "- Para cada día queremos que el precio relativo por el peso de cada componente se parezca al valor del precio relativo del indice \n",
    "- La suma de los pesos debe ser 1\n",
    "- Podemos limitar los pesos máximos y minimos. Como requerimiento debemos al menos asegurar que los pesos son positivos "
   ]
  },
  {
   "cell_type": "code",
   "execution_count": 78,
   "metadata": {},
   "outputs": [],
   "source": [
    "c_changes = []\n",
    "for i in range(window):\n",
    "    i_constraint = cp.sum(cp.multiply(var_w, prices_norm.iloc[i].values)) - ibex_norm[i] == var_epsilon[i] \n",
    "    c_changes.append(i_constraint)\n",
    "\n",
    "constraints = [\n",
    "    var_w <= 0.25, \n",
    "    var_w >= 0.003, \n",
    "    cp.sum(var_w) <= 1.0,\n",
    "    cp.sum(var_w) >= 1.0\n",
    "]        \n",
    "constraints.extend(c_changes)"
   ]
  },
  {
   "cell_type": "markdown",
   "metadata": {},
   "source": [
    "#### Función objetivo\n",
    "Minimizar la suma de los cuadrados de los errores diarios respecto al indice"
   ]
  },
  {
   "cell_type": "code",
   "execution_count": 80,
   "metadata": {},
   "outputs": [],
   "source": [
    "objective = cp.Minimize( cp.sum_squares(var_epsilon))"
   ]
  },
  {
   "cell_type": "markdown",
   "metadata": {},
   "source": [
    "Resolvemos el problema y almacenamos el resultado de los pesos"
   ]
  },
  {
   "cell_type": "code",
   "execution_count": 81,
   "metadata": {},
   "outputs": [
    {
     "data": {
      "text/plain": [
       "3.362772463013369e-08"
      ]
     },
     "execution_count": 81,
     "metadata": {},
     "output_type": "execute_result"
    }
   ],
   "source": [
    "prob = cp.Problem(objective, constraints)\n",
    "prob.solve()"
   ]
  },
  {
   "cell_type": "code",
   "execution_count": 82,
   "metadata": {},
   "outputs": [],
   "source": [
    "errors = pd.Series(var_epsilon.value)\n",
    "index_weights = pd.Series(var_w.value, index=prices_norm.columns)\n",
    "last_weights = index_weights * prices_norm.iloc[-1]"
   ]
  },
  {
   "cell_type": "code",
   "execution_count": 83,
   "metadata": {},
   "outputs": [
    {
     "data": {
      "text/plain": [
       "IBE     0.170766\n",
       "ITX     0.104535\n",
       "SAN     0.078262\n",
       "CLNX    0.060956\n",
       "FER     0.052103\n",
       "AMS     0.051777\n",
       "TEF     0.050567\n",
       "BBVA    0.040253\n",
       "REE     0.030029\n",
       "ELE     0.029835\n",
       "SGRE    0.027215\n",
       "REP     0.026848\n",
       "AENA    0.024280\n",
       "GRF     0.023979\n",
       "CABK    0.023197\n",
       "NTGY    0.012529\n",
       "ACS     0.012193\n",
       "ENG     0.012034\n",
       "MRL     0.011398\n",
       "BKT     0.010506\n",
       "IAG     0.010005\n",
       "IDR     0.008076\n",
       "MTS     0.007821\n",
       "MAP     0.007472\n",
       "COL     0.007082\n",
       "BKIA    0.006906\n",
       "SAB     0.003970\n",
       "ENC     0.003710\n",
       "ACX     0.003242\n",
       "ANA     0.003229\n",
       "VIS     0.003174\n",
       "MAS     0.002976\n",
       "CIE     0.002682\n",
       "MEL     0.002546\n",
       "ALM     0.002426\n",
       "dtype: float64"
      ]
     },
     "execution_count": 83,
     "metadata": {},
     "output_type": "execute_result"
    }
   ],
   "source": [
    "last_weights.sort_values(ascending=False)"
   ]
  },
  {
   "cell_type": "code",
   "execution_count": null,
   "metadata": {},
   "outputs": [],
   "source": []
  },
  {
   "cell_type": "code",
   "execution_count": 55,
   "metadata": {},
   "outputs": [
    {
     "data": {
      "text/plain": [
       "<AxesSubplot:>"
      ]
     },
     "execution_count": 55,
     "metadata": {},
     "output_type": "execute_result"
    },
    {
     "data": {
      "image/png": "[encoded data removed]",
      "text/plain": [
       "<Figure size 432x288 with 1 Axes>"
      ]
     },
     "metadata": {
      "needs_background": "light"
     },
     "output_type": "display_data"
    }
   ],
   "source": [
    "errors.plot()"
   ]
  },
  {
   "cell_type": "code",
   "execution_count": null,
   "metadata": {},
   "outputs": [],
   "source": []
  }
 ],
 "metadata": {
  "kernelspec": {
   "display_name": "Python 3",
   "language": "python",
   "name": "python3"
  },
  "language_info": {
   "codemirror_mode": {
    "name": "ipython",
    "version": 3
   },
   "file_extension": ".py",
   "mimetype": "text/x-python",
   "name": "python",
   "nbconvert_exporter": "python",
   "pygments_lexer": "ipython3",
   "version": "3.6.9"
  }
 },
 "nbformat": 4,
 "nbformat_minor": 4
}
