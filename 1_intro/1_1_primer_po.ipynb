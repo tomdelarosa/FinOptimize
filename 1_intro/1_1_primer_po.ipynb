{
 "cells": [
  {
   "cell_type": "markdown",
   "metadata": {},
   "source": [
    "## Introducción a la Optimización\n",
    "### Primera optimización con CVXPY"
   ]
  },
  {
   "cell_type": "markdown",
   "metadata": {},
   "source": [
    "Este cuaderno contiene un pequeño ejemplo para mostrar los \n",
    "elementos básicos utilizados en la librería de CVXPY"
   ]
  },
  {
   "cell_type": "markdown",
   "metadata": {},
   "source": [
    "#### Problema \n",
    "Calcular la asignación de pesos para una cartera de REE, MAPFRE e INDITEX para\n",
    "obtener la mejor rentabilidad por dividendo con la condición que ninguna acción supere\n",
    "el 50% de la cartera y que la combinación de ingresos nacionales sean como mucho del 40%.\n",
    "Los datos disponibles son los siguientes:\n",
    "\n",
    "|Acción  | REE | MAP | ITX |\n",
    "|:-------|-----|-----|-----| \n",
    "|RPD     | 7.1 | 5.1 | 3.5 |\n",
    "|Ingresos| 0.9 | 0.5 | 0.2 |\n"
   ]
  },
  {
   "cell_type": "code",
   "execution_count": null,
   "metadata": {},
   "outputs": [],
   "source": [
    "import cvxpy as cp\n",
    "import pandas as pd\n",
    "import numpy as np"
   ]
  },
  {
   "cell_type": "code",
   "execution_count": null,
   "metadata": {},
   "outputs": [],
   "source": [
    "# datos almacenados en arrays\n",
    "RPD = np.array([7.1, 5.1, 3.5])\n",
    "ingresos = np.array([0.9, 0.5, 0.2])"
   ]
  },
  {
   "cell_type": "code",
   "execution_count": null,
   "metadata": {},
   "outputs": [],
   "source": [
    "# creacion de variables de decisión\n",
    "x = cp.Variable(RPD.shape[0])"
   ]
  },
  {
   "cell_type": "code",
   "execution_count": null,
   "metadata": {},
   "outputs": [],
   "source": [
    "# construcción de función objetivo\n",
    "objective = cp.sum(cp.multiply(x, RPD))"
   ]
  },
  {
   "cell_type": "code",
   "execution_count": null,
   "metadata": {},
   "outputs": [],
   "source": [
    "# lista de expresiones representando las restricciones\n",
    "constraints = [\n",
    "    cp.sum(x) == 1.0,\n",
    "    cp.sum(cp.multiply(ingresos, x)) <= 0.4,\n",
    "    x <= 0.5,\n",
    "    x >= 0.0\n",
    "]"
   ]
  },
  {
   "cell_type": "code",
   "execution_count": null,
   "metadata": {},
   "outputs": [],
   "source": [
    "# instancia de un problema en CVXPY\n",
    "problem = cp.Problem(cp.Maximize(objective), constraints)"
   ]
  },
  {
   "cell_type": "code",
   "execution_count": null,
   "metadata": {},
   "outputs": [],
   "source": [
    "# resolución del problema y valor optimo\n",
    "result = problem.solve()\n",
    "result"
   ]
  },
  {
   "cell_type": "code",
   "execution_count": null,
   "metadata": {},
   "outputs": [],
   "source": [
    "# valor de las variables en el máximo de la función objetivo\n",
    "x.value"
   ]
  },
  {
   "cell_type": "code",
   "execution_count": null,
   "metadata": {},
   "outputs": [],
   "source": [
    "pd.Series(x.value.round(2), index=['REE','MAP','ITX'])"
   ]
  },
  {
   "cell_type": "markdown",
   "metadata": {},
   "source": [
    "___"
   ]
  },
  {
   "cell_type": "markdown",
   "metadata": {},
   "source": [
    "### Ejercicios Propuestos\n",
    "- Suponer que los ingresos nacionales de REE serán 0.8%. Ejecutar de nuevo y razonar las ventajas de tener un modelo que sea independiente de los datos de entrada.\n",
    "- Suponer que ahora nos interesa que la cartera solo llegue al 25% de los ingresos nacionales. ¿Cómo debemos interpretar el nuevo resultado?\n",
    "- Añadir a los datos del problema original la acción de Telefónica que tiene una RPD del 6.2 y sus ingresos en España representan un 30% del total. "
   ]
  },
  {
   "cell_type": "code",
   "execution_count": null,
   "metadata": {},
   "outputs": [],
   "source": []
  }
 ],
 "metadata": {
  "kernelspec": {
   "display_name": "Python 3",
   "language": "python",
   "name": "python3"
  },
  "language_info": {
   "codemirror_mode": {
    "name": "ipython",
    "version": 3
   },
   "file_extension": ".py",
   "mimetype": "text/x-python",
   "name": "python",
   "nbconvert_exporter": "python",
   "pygments_lexer": "ipython3",
   "version": "3.7.0"
  }
 },
 "nbformat": 4,
 "nbformat_minor": 4
}
