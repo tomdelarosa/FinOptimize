{
 "cells": [
  {
   "cell_type": "markdown",
   "metadata": {},
   "source": [
    "## Pogramación Lineal\n",
    "### Arbitraje de Opciones"
   ]
  },
  {
   "cell_type": "markdown",
   "metadata": {},
   "source": [
    "Este cuaderno muestra un ejemplo de como verificar si es posible realizar arbitraje en una cadena\n",
    "de opciones call de un mismo vencimiento. Para ello se construye un modelo de programación lineal\n",
    "que calcula el coste de construir una cartera que:\n",
    "- de beneficio no negativo si el precio es 0\n",
    "- de beneficio no negativo para cada uno de los strikes de la cadena\n",
    "- de beneficio no negativo a partir del último strike (pendiente positiva)"
   ]
  },
  {
   "cell_type": "code",
   "execution_count": null,
   "metadata": {},
   "outputs": [],
   "source": [
    "import pandas as pd\n",
    "import numpy as np\n",
    "import cvxpy as cp"
   ]
  },
  {
   "cell_type": "code",
   "execution_count": null,
   "metadata": {},
   "outputs": [],
   "source": [
    "def call_value(K, S):\n",
    "    \"\"\"\n",
    "    calcula el beneficio de la call a vencimiento.\n",
    "    Si el precio de la accion es mayor que el de ejercicio\n",
    "    el beneficio es la diferencia.  Si el precio es menor\n",
    "    vence sin valor\n",
    "    \"\"\"\n",
    "    p = 0\n",
    "    if S > K:\n",
    "        p = S - K\n",
    "    return p"
   ]
  },
  {
   "cell_type": "code",
   "execution_count": null,
   "metadata": {},
   "outputs": [],
   "source": [
    "print(call_value(100, 105))\n",
    "print(call_value(100, 95))"
   ]
  },
  {
   "cell_type": "markdown",
   "metadata": {},
   "source": [
    "### Datos\n",
    "Presentamos como ejemplo un diccionario que representa la prima para cada precio de ejercicio\n",
    "en una cadena de opciones "
   ]
  },
  {
   "cell_type": "code",
   "execution_count": null,
   "metadata": {},
   "outputs": [],
   "source": [
    "strike_call_prices ={\n",
    "    80: 20.14,\n",
    "    85: 15.47,\n",
    "    90: 11.23,\n",
    "    95: 7.64,\n",
    "    100: 4.85,\n",
    "    105: 2.86,\n",
    "    110: 1.58,\n",
    "    115: 0.81,\n",
    "    120: 0.39\n",
    "}"
   ]
  },
  {
   "cell_type": "code",
   "execution_count": null,
   "metadata": {},
   "outputs": [],
   "source": [
    "# numero de ejercicios\n",
    "n = len(strike_call_prices)\n",
    "n"
   ]
  },
  {
   "cell_type": "code",
   "execution_count": null,
   "metadata": {},
   "outputs": [],
   "source": [
    "# array con los precios\n",
    "call_prices = np.array(list(strike_call_prices.values()))\n",
    "call_prices"
   ]
  },
  {
   "cell_type": "code",
   "execution_count": null,
   "metadata": {},
   "outputs": [],
   "source": [
    "# array con los precios de ejercicio\n",
    "call_strikes = list(strike_call_prices.keys())\n",
    "call_strikes"
   ]
  },
  {
   "cell_type": "markdown",
   "metadata": {},
   "source": [
    "### Modelo"
   ]
  },
  {
   "cell_type": "markdown",
   "metadata": {},
   "source": [
    "Las variables de decisión representan el número de contratos que compraremos (positivo)\n",
    "o venderemos (negativo) para nuestra cartera"
   ]
  },
  {
   "cell_type": "code",
   "execution_count": null,
   "metadata": {},
   "outputs": [],
   "source": [
    "# variables de decision\n",
    "call_x = cp.Variable(n)"
   ]
  },
  {
   "cell_type": "code",
   "execution_count": null,
   "metadata": {},
   "outputs": [],
   "source": [
    "# precio de la cartera primas x contratos que queremos minimizar\n",
    "objetivo = cp.sum(cp.multiply(call_x, call_prices))"
   ]
  },
  {
   "cell_type": "code",
   "execution_count": null,
   "metadata": {},
   "outputs": [],
   "source": [
    "#lista de restricciones\n",
    "constraints = []"
   ]
  },
  {
   "cell_type": "markdown",
   "metadata": {},
   "source": [
    "(1) añadir restricciones del valor a vencimiento si el precio es 0"
   ]
  },
  {
   "cell_type": "code",
   "execution_count": null,
   "metadata": {},
   "outputs": [],
   "source": [
    "value_at0 = np.zeros(n)\n",
    "for i, i_strike in enumerate(call_strikes):\n",
    "    value_at0[i] = call_value(i_strike, 0)\n",
    "print(value_at0)\n",
    "exp_at0 = cp.sum(cp.multiply(value_at0, call_x)) >= 0\n",
    "constraints.append(exp_at0)"
   ]
  },
  {
   "cell_type": "markdown",
   "metadata": {},
   "source": [
    "(2) añadir restricciones del valor a vencimiento para cada strike"
   ]
  },
  {
   "cell_type": "code",
   "execution_count": null,
   "metadata": {},
   "outputs": [],
   "source": [
    "for j_price in call_strikes:\n",
    "    value_ati = np.zeros(n)\n",
    "    for i, i_strike in enumerate(call_strikes):\n",
    "        value_ati[i] = call_value(i_strike, j_price)\n",
    "    print(i_strike, \"->\", value_ati)  \n",
    "    ati_exp = cp.sum(cp.multiply(value_ati,call_x)) >= 0\n",
    "    constraints.append(ati_exp)"
   ]
  },
  {
   "cell_type": "markdown",
   "metadata": {},
   "source": [
    "(3) añadir restricciones de la pendiente del ultimo strike"
   ]
  },
  {
   "cell_type": "code",
   "execution_count": null,
   "metadata": {},
   "outputs": [],
   "source": [
    "top_strike = call_strikes[-1]\n",
    "value_attop = np.zeros(n)\n",
    "for i, i_strike in enumerate(call_strikes):\n",
    "    value_attop[i] = call_value(i_strike, top_strike + 1) - call_value(i_strike, top_strike)\n",
    "print(value_attop)\n",
    "\n",
    "exp_top = cp.sum(cp.multiply(value_attop, call_x)) >= 0\n",
    "constraints.append(exp_top)"
   ]
  },
  {
   "cell_type": "markdown",
   "metadata": {},
   "source": [
    "Se restringe el numero de contratos vendidos. En la práctica estaríamos limitados\n",
    "por el control de riesgo de nuestra cuenta.  En el caso hipotético de no restringirse\n",
    "podríamos vender todo lo que quisieramos cuando haya arbitraje"
   ]
  },
  {
   "cell_type": "code",
   "execution_count": null,
   "metadata": {},
   "outputs": [],
   "source": [
    "constraints.append(call_x >= -40) "
   ]
  },
  {
   "cell_type": "markdown",
   "metadata": {},
   "source": [
    "Solucionamos el problema\n",
    "- resultado 0 significa que no existe arbitraje. La cartera mas barata sería equivalente a no comprar nada\n",
    "- resultado negativo significa que en lugar de pagar recibimos dinero por nuestra cartera"
   ]
  },
  {
   "cell_type": "code",
   "execution_count": null,
   "metadata": {},
   "outputs": [],
   "source": [
    "problem = cp.Problem(cp.Minimize(objetivo), constraints)\n",
    "result = problem.solve()"
   ]
  },
  {
   "cell_type": "code",
   "execution_count": null,
   "metadata": {},
   "outputs": [],
   "source": [
    "np.round(result, 4)"
   ]
  },
  {
   "cell_type": "markdown",
   "metadata": {},
   "source": [
    "compra venta de contratos que tendríamos que realizar"
   ]
  },
  {
   "cell_type": "code",
   "execution_count": null,
   "metadata": {},
   "outputs": [],
   "source": [
    "res_serie = pd.Series(np.round(call_x.value), index=call_strikes)\n",
    "res_serie"
   ]
  },
  {
   "cell_type": "markdown",
   "metadata": {},
   "source": [
    "___\n"
   ]
  },
  {
   "cell_type": "markdown",
   "metadata": {},
   "source": [
    "### Ejercicio Propuesto"
   ]
  },
  {
   "cell_type": "markdown",
   "metadata": {},
   "source": [
    "Ejecutar el modelo del ejemplo considerando ahora unos precios de prima alternativos. \n",
    "Verificar que en este caso sí existe arbitraje. ¿Qué cartera tendrías que construir?"
   ]
  },
  {
   "cell_type": "code",
   "execution_count": null,
   "metadata": {},
   "outputs": [],
   "source": [
    "strike_call_prices ={\n",
    "    80: 20.14,\n",
    "    85: 15.47,\n",
    "    90: 11.23,\n",
    "    95: 7.75,\n",
    "    100: 5.03,\n",
    "    105: 2.86,\n",
    "    110: 1.05,\n",
    "    115: 0.81,\n",
    "    120: 0.39\n",
    "}"
   ]
  },
  {
   "cell_type": "code",
   "execution_count": null,
   "metadata": {},
   "outputs": [],
   "source": []
  }
 ],
 "metadata": {
  "kernelspec": {
   "display_name": "Python 3",
   "language": "python",
   "name": "python3"
  },
  "language_info": {
   "codemirror_mode": {
    "name": "ipython",
    "version": 3
   },
   "file_extension": ".py",
   "mimetype": "text/x-python",
   "name": "python",
   "nbconvert_exporter": "python",
   "pygments_lexer": "ipython3",
   "version": "3.7.0"
  }
 },
 "nbformat": 4,
 "nbformat_minor": 4
}
