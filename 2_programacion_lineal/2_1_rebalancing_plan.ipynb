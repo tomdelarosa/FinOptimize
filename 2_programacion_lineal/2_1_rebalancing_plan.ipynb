{
 "cells": [
  {
   "cell_type": "markdown",
   "metadata": {},
   "source": [
    "## Programación Lineal\n",
    "### Plan de Rebalanceo de Carteras"
   ]
  },
  {
   "cell_type": "markdown",
   "metadata": {},
   "source": [
    "En este cuaderno se muestra la resolución de un problema que plantea determinar que traspasos de dinero\n",
    "entre fondos de inversión hay que realizar para llevar una cartera actual a una cartera objetivo."
   ]
  },
  {
   "cell_type": "code",
   "execution_count": null,
   "metadata": {},
   "outputs": [],
   "source": [
    "import pandas as pd\n",
    "import numpy as np\n",
    "import matplotlib.pyplot as plt\n",
    "import cvxpy as cp"
   ]
  },
  {
   "cell_type": "markdown",
   "metadata": {},
   "source": [
    "### Datos\n",
    "Tenemos disponible un CSV de ejemplo que contiene el valor de las posiciones\n",
    "de la cartera actual y la objetivo, que nos servirán de ejemplo. Además\n",
    "tenemos otro CSV con los días que tardaría un traspaso, y que nos servirá\n",
    "como ejemplo de coste"
   ]
  },
  {
   "cell_type": "code",
   "execution_count": null,
   "metadata": {},
   "outputs": [],
   "source": [
    "portfolio = pd.read_csv('../data/portfolio_to_rebalance.csv', index_col='fondo')\n",
    "portfolio"
   ]
  },
  {
   "cell_type": "code",
   "execution_count": null,
   "metadata": {},
   "outputs": [],
   "source": [
    "portfolio.sum()"
   ]
  },
  {
   "cell_type": "code",
   "execution_count": null,
   "metadata": {},
   "outputs": [],
   "source": [
    "dias_traspaso = pd.read_csv('../data/coste_traspaso.csv', index_col=0)\n",
    "dias_traspaso"
   ]
  },
  {
   "cell_type": "code",
   "execution_count": null,
   "metadata": {},
   "outputs": [],
   "source": [
    "def rebalancing_series(source, target):\n",
    "    \"\"\"\n",
    "    Calcula los flujos de entrada y salida para rebalancear\n",
    "    la cartera a partir de la diferencia entre la actual\n",
    "    y el objetivo\n",
    "    \"\"\"\n",
    "    diff = target - source\n",
    "    outflow = -diff[diff < 0]\n",
    "    inflow = diff[diff > 0]\n",
    "    \n",
    "    return outflow, inflow"
   ]
  },
  {
   "cell_type": "code",
   "execution_count": null,
   "metadata": {},
   "outputs": [],
   "source": [
    "outfunds, infunds = rebalancing_series(portfolio.current, portfolio.target)"
   ]
  },
  {
   "cell_type": "code",
   "execution_count": null,
   "metadata": {},
   "outputs": [],
   "source": [
    "outfunds"
   ]
  },
  {
   "cell_type": "code",
   "execution_count": null,
   "metadata": {},
   "outputs": [],
   "source": [
    "infunds"
   ]
  },
  {
   "cell_type": "markdown",
   "metadata": {},
   "source": [
    "Seleccionamos de los datos de coste los necesarios para construir\n",
    "el problema"
   ]
  },
  {
   "cell_type": "code",
   "execution_count": null,
   "metadata": {},
   "outputs": [],
   "source": [
    "costes_traspaso = dias_traspaso.loc[outfunds.index, infunds.index]\n",
    "costes_traspaso"
   ]
  },
  {
   "cell_type": "markdown",
   "metadata": {},
   "source": [
    "### Implementación del modelo de optimización\n"
   ]
  },
  {
   "cell_type": "markdown",
   "metadata": {},
   "source": [
    "En este caso hemos hecho coincidir el valor de la carteras.  Las\n",
    "restricciones con desigualdad nos permitirían encontrar soluciones\n",
    "en los casos por ejemplo que tenemos holgura en la cartera actual"
   ]
  },
  {
   "cell_type": "code",
   "execution_count": null,
   "metadata": {},
   "outputs": [],
   "source": [
    "out_n = outfunds.shape[0]\n",
    "in_n = infunds.shape[0]"
   ]
  },
  {
   "cell_type": "code",
   "execution_count": null,
   "metadata": {},
   "outputs": [],
   "source": [
    "fundmove = cp.Variable((out_n, in_n))"
   ]
  },
  {
   "cell_type": "code",
   "execution_count": null,
   "metadata": {},
   "outputs": [],
   "source": [
    "objetivo = cp.sum(cp.multiply(fundmove, costes_traspaso.values))"
   ]
  },
  {
   "cell_type": "code",
   "execution_count": null,
   "metadata": {},
   "outputs": [],
   "source": [
    "constraints = []\n",
    "\n",
    "for out_i, ofund in enumerate(outfunds):\n",
    "    o_const = cp.sum(fundmove[out_i, :]) <= ofund\n",
    "    constraints.append(o_const)\n",
    "for in_j, infund in enumerate(infunds):\n",
    "    in_const = cp.sum(fundmove[:, in_j]) >= infund\n",
    "    constraints.append(in_const)"
   ]
  },
  {
   "cell_type": "code",
   "execution_count": null,
   "metadata": {},
   "outputs": [],
   "source": [
    "constraints.append(fundmove >= 0)"
   ]
  },
  {
   "cell_type": "code",
   "execution_count": null,
   "metadata": {},
   "outputs": [],
   "source": [
    "problem = cp.Problem(cp.Minimize(objetivo), constraints)"
   ]
  },
  {
   "cell_type": "code",
   "execution_count": null,
   "metadata": {},
   "outputs": [],
   "source": [
    "out_prob = problem.solve()"
   ]
  },
  {
   "cell_type": "markdown",
   "metadata": {},
   "source": [
    "Reconstruimos la solución a partir de los valores que se quedan \n",
    "almacenados en las variables de decisión"
   ]
  },
  {
   "cell_type": "code",
   "execution_count": null,
   "metadata": {},
   "outputs": [],
   "source": [
    "resultado = pd.DataFrame(fundmove.value.round(2),\n",
    "                         index=outfunds.index,\n",
    "                         columns=infunds.index)    \n",
    "resultado"
   ]
  },
  {
   "cell_type": "markdown",
   "metadata": {},
   "source": [
    "___"
   ]
  },
  {
   "cell_type": "markdown",
   "metadata": {},
   "source": [
    "### Propuesta Ejercicios\n",
    "1. Modificar el modelo para que de forma puntual ningún traspaso\n",
    "sea mayor de 9000€.\n"
   ]
  },
  {
   "cell_type": "code",
   "execution_count": null,
   "metadata": {},
   "outputs": [],
   "source": []
  }
 ],
 "metadata": {
  "kernelspec": {
   "display_name": "Python 3",
   "language": "python",
   "name": "python3"
  },
  "language_info": {
   "codemirror_mode": {
    "name": "ipython",
    "version": 3
   },
   "file_extension": ".py",
   "mimetype": "text/x-python",
   "name": "python",
   "nbconvert_exporter": "python",
   "pygments_lexer": "ipython3",
   "version": "3.7.0"
  }
 },
 "nbformat": 4,
 "nbformat_minor": 4
}
