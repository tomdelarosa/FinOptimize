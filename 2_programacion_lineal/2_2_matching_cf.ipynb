{
 "cells": [
  {
   "cell_type": "markdown",
   "metadata": {},
   "source": [
    "## Programación Lineal\n",
    "### Coincidencia de Flujos de Caja\n",
    "Si tenemos varias alternativas de financiación y disponemos de una planificación de los flujos de caja necesarios para un proyecto, podemos construir un problema de programación lineal para hacer coincidir los flujos de caja con el efectivo disponible en cada momento"
   ]
  },
  {
   "cell_type": "code",
   "execution_count": null,
   "metadata": {},
   "outputs": [],
   "source": [
    "import numpy as np\n",
    "import pandas as pd\n",
    "import cvxpy as cp"
   ]
  },
  {
   "cell_type": "markdown",
   "metadata": {},
   "source": [
    "### Descripción \n",
    "Un proyecto de **5 años** tiene los siguientes flujos de caja estimados (en millones)"
   ]
  },
  {
   "cell_type": "markdown",
   "metadata": {},
   "source": [
    "| Año | y1 | y2 | y3 | y4 | y5 |\n",
    "|----:|---:|---:|---:|---:|---:|\n",
    "|Flujos Netos | -5.2 | 0.4 | -1.5 | 3.7 | 2.8 |"
   ]
  },
  {
   "cell_type": "markdown",
   "metadata": {},
   "source": [
    "Para el proyecto podemos financiarnos de la siguiente forma.\n",
    "- Prestamos bancarios que se pagan al final de año a un interés del 0.03%\n",
    "- Emitir bonos a 2 años con cupón anual del 0.02%\n",
    "- El efectivo sobrante recibe un 0.005% anual invertido en mercados monetarios"
   ]
  },
  {
   "cell_type": "markdown",
   "metadata": {},
   "source": [
    "### Modelo"
   ]
  },
  {
   "cell_type": "code",
   "execution_count": null,
   "metadata": {},
   "outputs": [],
   "source": [
    "# años\n",
    "n=5\n",
    "\n",
    "# flujos de caja\n",
    "cf = np.array([-5.2, 0.4, -1.5, 2.7, 7.8 ])\n",
    "cf"
   ]
  },
  {
   "cell_type": "code",
   "execution_count": null,
   "metadata": {},
   "outputs": [],
   "source": [
    "r_b = 0.03     #interes bancario\n",
    "r_c = 0.02     #cupon bono\n",
    "r_z = 0.005    #interes ahorro"
   ]
  },
  {
   "cell_type": "code",
   "execution_count": null,
   "metadata": {},
   "outputs": [],
   "source": [
    "X = cp.Variable(5)\n",
    "Y = cp.Variable(5)\n",
    "Z = cp.Variable(5) "
   ]
  },
  {
   "cell_type": "code",
   "execution_count": null,
   "metadata": {},
   "outputs": [],
   "source": [
    "objetivo = cp.Maximize(Z[4])"
   ]
  },
  {
   "cell_type": "code",
   "execution_count": null,
   "metadata": {},
   "outputs": [],
   "source": [
    "c_y1 =    X[0] + Y[0] - Z[0]                                         == -cf[0]\n",
    "c_y2 =    X[1] + Y[1] - Z[1]  -X[0]*(1+r_b) -Y[0]*r_c + Z[0]*1.005   == -cf[1] "
   ]
  },
  {
   "cell_type": "code",
   "execution_count": null,
   "metadata": {},
   "outputs": [],
   "source": [
    "constraints = [X >= 0, Y>=0, Z>=0]\n",
    "constraints.append(c_y1)\n",
    "constraints.append(c_y2)"
   ]
  },
  {
   "cell_type": "code",
   "execution_count": null,
   "metadata": {},
   "outputs": [],
   "source": [
    "for i in range(2,5):\n",
    "    c_yi = X[i] + Y[i] - Z[i] - X[i-1]*(1+r_b) - Y[i-2]*(1+r_c) - Y[i-1]*r_c + Z[i-1]*(1+r_z) == -cf[i] \n",
    "    constraints.append(c_yi)"
   ]
  },
  {
   "cell_type": "code",
   "execution_count": null,
   "metadata": {},
   "outputs": [],
   "source": [
    "constraints.append(X[-1] == 0)\n",
    "constraints.append(Y[-2:] == 0)"
   ]
  },
  {
   "cell_type": "code",
   "execution_count": null,
   "metadata": {},
   "outputs": [],
   "source": [
    "constraints"
   ]
  },
  {
   "cell_type": "code",
   "execution_count": null,
   "metadata": {},
   "outputs": [],
   "source": [
    "prob = cp.Problem(objetivo, constraints)"
   ]
  },
  {
   "cell_type": "code",
   "execution_count": null,
   "metadata": {},
   "outputs": [],
   "source": [
    "prob.solve(verbose=True)"
   ]
  },
  {
   "cell_type": "code",
   "execution_count": null,
   "metadata": {},
   "outputs": [],
   "source": [
    "X.value.round(3)"
   ]
  },
  {
   "cell_type": "code",
   "execution_count": null,
   "metadata": {},
   "outputs": [],
   "source": [
    "Y.value.round(3)"
   ]
  },
  {
   "cell_type": "code",
   "execution_count": null,
   "metadata": {},
   "outputs": [],
   "source": [
    "Z.value"
   ]
  },
  {
   "cell_type": "code",
   "execution_count": null,
   "metadata": {},
   "outputs": [],
   "source": [
    "xs = np.round(X.value,3)\n",
    "ys = np.round(Y.value,3)\n",
    "zs = np.round(Z.value,3)"
   ]
  },
  {
   "cell_type": "code",
   "execution_count": null,
   "metadata": {},
   "outputs": [],
   "source": [
    "pd.DataFrame({\n",
    "    'bancos':xs,\n",
    "    'bonos':ys,\n",
    "    'cash':zs,\n",
    "    'cash_flow':cf\n",
    "})"
   ]
  },
  {
   "cell_type": "code",
   "execution_count": null,
   "metadata": {},
   "outputs": [],
   "source": []
  },
  {
   "cell_type": "code",
   "execution_count": null,
   "metadata": {},
   "outputs": [],
   "source": []
  }
 ],
 "metadata": {
  "kernelspec": {
   "display_name": "Python 3",
   "language": "python",
   "name": "python3"
  },
  "language_info": {
   "codemirror_mode": {
    "name": "ipython",
    "version": 3
   },
   "file_extension": ".py",
   "mimetype": "text/x-python",
   "name": "python",
   "nbconvert_exporter": "python",
   "pygments_lexer": "ipython3",
   "version": "3.7.0"
  }
 },
 "nbformat": 4,
 "nbformat_minor": 4
}
