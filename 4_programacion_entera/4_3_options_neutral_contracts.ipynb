{
 "cells": [
  {
   "cell_type": "markdown",
   "metadata": {},
   "source": [
    "## Programación Entera\n",
    "### Estrategia Neutral con Opciones\n",
    "En este ejemplo se plantea una estrategia nuetral con opciones, vendiendo una cesta de opciones que se cubra con una compra de la opción sobre el índice correspondiente.  El inconveniente para el IBEX es que no todos los valores tienen opciones cotizando y además los multiplicadores de las opciones no nos permiten replicar exactamente la exposición al índice.  Por tando el objetivo consiste en **determinar el número de contratos a vender de cada opción disponible, de modo que se reproduzca el nominal contratado en la opción sobre el índice**\n"
   ]
  },
  {
   "cell_type": "code",
   "execution_count": null,
   "metadata": {},
   "outputs": [],
   "source": [
    "import sys\n",
    "import pandas as pd\n",
    "import numpy as np\n",
    "import cvxpy as cp\n",
    "import matplotlib.pyplot as plt"
   ]
  },
  {
   "cell_type": "markdown",
   "metadata": {},
   "source": [
    "### Datos\n",
    "Datos de mercado del IBEX35 y de sus componentes"
   ]
  },
  {
   "cell_type": "code",
   "execution_count": null,
   "metadata": {},
   "outputs": [],
   "source": [
    "import pickle\n",
    "with open('../data/stock_data.pkl', 'rb') as handle:\n",
    "    stock_data = pickle.load(handle)\n",
    "with open('../data/benchmark.pkl', 'rb') as handle:\n",
    "    benchmark = pickle.load(handle)"
   ]
  },
  {
   "cell_type": "code",
   "execution_count": null,
   "metadata": {},
   "outputs": [],
   "source": [
    "close_dict = {tk: df.close for tk, df in stock_data.items()}\n",
    "close_df = pd.DataFrame(close_dict)"
   ]
  },
  {
   "cell_type": "code",
   "execution_count": null,
   "metadata": {},
   "outputs": [],
   "source": [
    "close_year = close_df.loc['2019-09-02':'2019-12-31']\n",
    "stock_close = close_year.dropna(axis=1)"
   ]
  },
  {
   "cell_type": "code",
   "execution_count": null,
   "metadata": {},
   "outputs": [],
   "source": [
    "bm_year = benchmark['ibex'].close"
   ]
  },
  {
   "cell_type": "markdown",
   "metadata": {},
   "source": [
    "Tenemos la lista de acciones que tienen cotizando \n",
    "opciones en MEFF"
   ]
  },
  {
   "cell_type": "code",
   "execution_count": null,
   "metadata": {},
   "outputs": [],
   "source": [
    "liquid_tk = ['SAN', 'BBVA', 'ITX', 'TEF', 'REP',\n",
    "             'IBE', 'CLNX', 'AMS', 'ELE', 'IAG',\n",
    "             'FER', 'GRF', 'REE', 'ENG', 'NTGY',\n",
    "             'ACS', 'CABK', 'ACX']"
   ]
  },
  {
   "cell_type": "code",
   "execution_count": null,
   "metadata": {},
   "outputs": [],
   "source": [
    "ibd = benchmark['ibex'].close"
   ]
  },
  {
   "cell_type": "markdown",
   "metadata": {},
   "source": [
    "seleccionamos solo los precios de cierre de las acciones \n",
    "sobre las que vamos a trabajar. Haremos la estimación\n",
    "utilizando los últimos 3 meses del 2019"
   ]
  },
  {
   "cell_type": "code",
   "execution_count": null,
   "metadata": {},
   "outputs": [],
   "source": [
    "liquid_close = stock_close[liquid_tk]\n",
    "liquid_close.tail()"
   ]
  },
  {
   "cell_type": "markdown",
   "metadata": {},
   "source": [
    "Una opción sobre el índice tiene multiplicador 1, por lo que utilizaremos un factor sobre \n",
    "el precio del IBEX para representar el nominal total sobre el que queremos trabajar\n",
    "Ver detalles en la descripción del [opciones sobre el IBEX35](https://www.meff.es/esp/Derivados-Financieros/Opciones-sobre-IBEX35)"
   ]
  },
  {
   "cell_type": "code",
   "execution_count": null,
   "metadata": {},
   "outputs": [],
   "source": [
    "bm_factor = 10"
   ]
  },
  {
   "cell_type": "code",
   "execution_count": null,
   "metadata": {},
   "outputs": [],
   "source": [
    "n_stocks = len(liquid_tk)\n",
    "n_days = liquid_close.shape[0]\n",
    "n_stocks, n_days"
   ]
  },
  {
   "cell_type": "markdown",
   "metadata": {},
   "source": [
    "Las variables de decisión \n",
    "- Numero de contratos de cada opción\n",
    "- variables de error de cada día que se deben minimizar"
   ]
  },
  {
   "cell_type": "code",
   "execution_count": null,
   "metadata": {},
   "outputs": [],
   "source": [
    "var_contract = cp.Variable(n_stocks, integer=True)\n",
    "var_epsilon = cp.Variable(n_days)"
   ]
  },
  {
   "cell_type": "markdown",
   "metadata": {},
   "source": [
    "Restricciones\n",
    "- el nominal de los contratos de opciones de la cesta menos de los contratos sobre el índice debe ser igual al error del día\n",
    "- la cantidad de contratos no puede ser negativa"
   ]
  },
  {
   "cell_type": "code",
   "execution_count": null,
   "metadata": {},
   "outputs": [],
   "source": [
    "day_constraints = []\n",
    "i = 0\n",
    "for iday, iprices in liquid_close.iterrows():\n",
    "    i_constraint = (var_contract @ (iprices.values*100)) - ibd.loc[iday]*bm_factor == var_epsilon[i]\n",
    "    day_constraints = day_constraints + [i_constraint]\n",
    "    i += 1 "
   ]
  },
  {
   "cell_type": "code",
   "execution_count": null,
   "metadata": {},
   "outputs": [],
   "source": [
    "constraints = [ var_contract >= 0]\n",
    "constraints.extend(day_constraints)"
   ]
  },
  {
   "cell_type": "markdown",
   "metadata": {},
   "source": [
    "Minimizamos la suma de los valores absolutos de los errores"
   ]
  },
  {
   "cell_type": "code",
   "execution_count": null,
   "metadata": {},
   "outputs": [],
   "source": [
    "objective = cp.Minimize(cp.sum(cp.abs(var_epsilon)))"
   ]
  },
  {
   "cell_type": "code",
   "execution_count": null,
   "metadata": {},
   "outputs": [],
   "source": [
    "prob = cp.Problem(objective, constraints)"
   ]
  },
  {
   "cell_type": "code",
   "execution_count": null,
   "metadata": {},
   "outputs": [],
   "source": [
    "prob.solve()"
   ]
  },
  {
   "cell_type": "markdown",
   "metadata": {},
   "source": [
    "Solución"
   ]
  },
  {
   "cell_type": "code",
   "execution_count": null,
   "metadata": {},
   "outputs": [],
   "source": [
    "solucion = pd.Series(var_contract.value, index=liquid_close.columns)\n",
    "solucion.round(2)"
   ]
  },
  {
   "cell_type": "raw",
   "metadata": {},
   "source": [
    "Verificamos que la diferencia de nominal diario sea una cantidad pequeña"
   ]
  },
  {
   "cell_type": "code",
   "execution_count": null,
   "metadata": {},
   "outputs": [],
   "source": [
    "all_nominal = (solucion * liquid_close * 100)\n",
    "diff_nominal = all_nominal.sum(axis=1) - ibd*bm_factor\n",
    "diff_nominal.plot()"
   ]
  },
  {
   "cell_type": "code",
   "execution_count": null,
   "metadata": {},
   "outputs": [],
   "source": []
  }
 ],
 "metadata": {
  "kernelspec": {
   "display_name": "Python 3",
   "language": "python",
   "name": "python3"
  },
  "language_info": {
   "codemirror_mode": {
    "name": "ipython",
    "version": 3
   },
   "file_extension": ".py",
   "mimetype": "text/x-python",
   "name": "python",
   "nbconvert_exporter": "python",
   "pygments_lexer": "ipython3",
   "version": "3.7.0"
  }
 },
 "nbformat": 4,
 "nbformat_minor": 4
}
