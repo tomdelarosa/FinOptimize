{
 "cells": [
  {
   "cell_type": "markdown",
   "metadata": {},
   "source": [
    "## Programación Entera\n",
    "### Réplica de un Fondo Indice"
   ]
  },
  {
   "cell_type": "markdown",
   "metadata": {},
   "source": [
    "Este cuaderno presenta un ejemplo de como elegir un conjunto de valores para \n",
    "replicar el IBEX35. La idea consiste en elegir para cada componente del índice\n",
    "un represente, que puede ser el propio valor o un valor semejante."
   ]
  },
  {
   "cell_type": "code",
   "execution_count": null,
   "metadata": {},
   "outputs": [],
   "source": [
    "import pandas as pd\n",
    "import numpy as np\n",
    "import matplotlib.pyplot as plt\n",
    "import cvxpy as cp\n",
    "from collections import defaultdict"
   ]
  },
  {
   "cell_type": "markdown",
   "metadata": {},
   "source": [
    "### Datos\n",
    "Utilizaremos una ventana de un año de los precios de cierre del IBEX\n",
    "para construir una matriz de correlación que nos determinará la semejanza\n",
    "de comportamiento entre valores"
   ]
  },
  {
   "cell_type": "code",
   "execution_count": null,
   "metadata": {},
   "outputs": [],
   "source": [
    "import pickle\n",
    "with open('../data/stock_data.pkl', 'rb') as handle:\n",
    "    stock_data = pickle.load(handle)"
   ]
  },
  {
   "cell_type": "code",
   "execution_count": null,
   "metadata": {},
   "outputs": [],
   "source": [
    "close_dict = {tk: df.close for tk, df in stock_data.items()}\n",
    "close_df = pd.DataFrame(close_dict)"
   ]
  },
  {
   "cell_type": "code",
   "execution_count": null,
   "metadata": {},
   "outputs": [],
   "source": [
    "close_year = close_df.loc['2019-01-02':'2019-12-31']\n",
    "close_year = close_year.dropna(axis=1)"
   ]
  },
  {
   "cell_type": "code",
   "execution_count": null,
   "metadata": {},
   "outputs": [],
   "source": [
    "returns = np.log(close_year).diff()\n",
    "stock_corr = returns.corr()"
   ]
  },
  {
   "cell_type": "code",
   "execution_count": null,
   "metadata": {},
   "outputs": [],
   "source": [
    "stock_corr"
   ]
  },
  {
   "cell_type": "markdown",
   "metadata": {},
   "source": [
    "___"
   ]
  },
  {
   "cell_type": "markdown",
   "metadata": {},
   "source": [
    "### Modelo de programación entera"
   ]
  },
  {
   "cell_type": "code",
   "execution_count": null,
   "metadata": {},
   "outputs": [],
   "source": [
    "# numero de valores elegidos para la replica\n",
    "n_fund = 20"
   ]
  },
  {
   "cell_type": "code",
   "execution_count": null,
   "metadata": {},
   "outputs": [],
   "source": [
    "# numero de valores en el indice\n",
    "n = stock_corr.shape[0]"
   ]
  },
  {
   "cell_type": "markdown",
   "metadata": {},
   "source": [
    "**Variables de decisión**\n",
    "- Xs Matriz nxn de binarias. Cada fila representa el valor del índice, y la columna indica con que valor se va a replicar dentro del fondo de replica\n",
    "- Ys Vector de n binarias para indicar si un valor se ha seleccionado para el fondo"
   ]
  },
  {
   "cell_type": "code",
   "execution_count": null,
   "metadata": {},
   "outputs": [],
   "source": [
    "x = cp.Variable(stock_corr.shape, boolean=True)\n",
    "y = cp.Variable(stock_corr.shape[0], boolean=True)"
   ]
  },
  {
   "cell_type": "code",
   "execution_count": null,
   "metadata": {},
   "outputs": [],
   "source": [
    "# Funcion objetivo\n",
    "objective = cp.sum(cp.multiply(x, stock_corr))"
   ]
  },
  {
   "cell_type": "code",
   "execution_count": null,
   "metadata": {},
   "outputs": [],
   "source": [
    "# la suma del vector y debe ser la cantidad de valores seleccionados para el fondo\n",
    "constraints =[\n",
    "    cp.sum(y) == n_fund,\n",
    "]"
   ]
  },
  {
   "cell_type": "code",
   "execution_count": null,
   "metadata": {},
   "outputs": [],
   "source": [
    "# Para cada fila solo debemos seleccionar un valor\n",
    "for i in range(n):\n",
    "    c_i = cp.sum(x[i,:]) == 1\n",
    "    constraints.append(c_i)"
   ]
  },
  {
   "cell_type": "code",
   "execution_count": null,
   "metadata": {},
   "outputs": [],
   "source": [
    "# Si un valor en el vector y no es seleccionado, su fila correspondiente\n",
    "# en la matriz de Xs debe estar vacia \n",
    "for i in range(n):\n",
    "    for j in range(n):\n",
    "        c_ij = x[i,j] <= y[j]\n",
    "        constraints.append(c_ij)"
   ]
  },
  {
   "cell_type": "code",
   "execution_count": null,
   "metadata": {},
   "outputs": [],
   "source": [
    "prob = cp.Problem(cp.Maximize(objective), constraints)\n",
    "res = prob.solve()\n",
    "res"
   ]
  },
  {
   "cell_type": "code",
   "execution_count": null,
   "metadata": {},
   "outputs": [],
   "source": [
    "## seleccionamos los valores que han sido elegidos por el modelo\n",
    "selected = pd.Series(y.value, index=stock_corr.columns)\n",
    "selected[selected == 1]"
   ]
  },
  {
   "cell_type": "markdown",
   "metadata": {},
   "source": [
    "podemos ver que en cada fila solo hay un elemento seleccionado"
   ]
  },
  {
   "cell_type": "code",
   "execution_count": null,
   "metadata": {},
   "outputs": [],
   "source": [
    "x.value[1,:]"
   ]
  },
  {
   "cell_type": "code",
   "execution_count": null,
   "metadata": {},
   "outputs": [],
   "source": [
    "# recuperamos para cada fila en que posicion ha ocurrido el 1\n",
    "occurr = np.argwhere(x.value == 1)\n",
    "occurr"
   ]
  },
  {
   "cell_type": "code",
   "execution_count": null,
   "metadata": {},
   "outputs": [],
   "source": [
    "# a partir de las ocurrencias reconstruimos\n",
    "# que accion esta representado a cada componente del IBEX\n",
    "\n",
    "matches = {tk: stock_corr.columns[occurr[i, 1]] \n",
    "           for i, tk in enumerate(stock_corr.columns)}"
   ]
  },
  {
   "cell_type": "code",
   "execution_count": null,
   "metadata": {},
   "outputs": [],
   "source": [
    "matches"
   ]
  },
  {
   "cell_type": "markdown",
   "metadata": {},
   "source": [
    "podemos reconstruir lo mismo buscando por columnas que elementos\n",
    "representa cada acción."
   ]
  },
  {
   "cell_type": "code",
   "execution_count": null,
   "metadata": {},
   "outputs": [],
   "source": [
    "col_represent = np.argwhere(x.value.T == 1)\n",
    "col_represent"
   ]
  },
  {
   "cell_type": "code",
   "execution_count": null,
   "metadata": {},
   "outputs": [],
   "source": [
    "tickers = stock_corr.columns\n",
    "group_represent = defaultdict(list)\n",
    "for pair in represent:\n",
    "    irep = tickers[pair[0]]\n",
    "    istock = tickers[pair[1]]\n",
    "    group_represent[irep].append(istock)\n",
    "group_represent"
   ]
  },
  {
   "cell_type": "markdown",
   "metadata": {},
   "source": [
    "___"
   ]
  },
  {
   "cell_type": "markdown",
   "metadata": {},
   "source": [
    "### Ejercicio Propuesto"
   ]
  },
  {
   "cell_type": "markdown",
   "metadata": {},
   "source": [
    "- Analizar el resultado del ejemplo anterior verificando diferentes numeros de acciones en el fondo de replica \n",
    "- Modificar el problema para que ningún valor pueda representar más de 3 activos a la vez"
   ]
  },
  {
   "cell_type": "code",
   "execution_count": null,
   "metadata": {},
   "outputs": [],
   "source": []
  }
 ],
 "metadata": {
  "kernelspec": {
   "display_name": "Python 3",
   "language": "python",
   "name": "python3"
  },
  "language_info": {
   "codemirror_mode": {
    "name": "ipython",
    "version": 3
   },
   "file_extension": ".py",
   "mimetype": "text/x-python",
   "name": "python",
   "nbconvert_exporter": "python",
   "pygments_lexer": "ipython3",
   "version": "3.7.0"
  }
 },
 "nbformat": 4,
 "nbformat_minor": 4
}
