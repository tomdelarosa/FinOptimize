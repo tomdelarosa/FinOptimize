{
 "cells": [
  {
   "cell_type": "markdown",
   "metadata": {},
   "source": [
    "## Introducción a la Optimización\n",
    "### Funcionalidades de CVXPY\n",
    "En este cuaderno se describen las funcionalidades básicas de CVXPY que nos permitirán\n",
    "construir modelos de programación lineal y cuadrática. Para una referencia más completa\n",
    "se recomienda consultar la [documentación oficial](https://www.cvxpy.org)"
   ]
  },
  {
   "cell_type": "code",
   "execution_count": null,
   "metadata": {},
   "outputs": [],
   "source": [
    "import numpy as np\n",
    "import pandas as pd\n",
    "import cvxpy as cp"
   ]
  },
  {
   "cell_type": "markdown",
   "metadata": {},
   "source": [
    "___\n"
   ]
  },
  {
   "cell_type": "markdown",
   "metadata": {},
   "source": [
    " ### Variables de Decisión"
   ]
  },
  {
   "cell_type": "code",
   "execution_count": null,
   "metadata": {},
   "outputs": [],
   "source": [
    "# Una variable individual\n",
    "a = cp.Variable()"
   ]
  },
  {
   "cell_type": "code",
   "execution_count": null,
   "metadata": {},
   "outputs": [],
   "source": [
    "# Un vector de variables \n",
    "x = cp.Variable(5)"
   ]
  },
  {
   "cell_type": "code",
   "execution_count": null,
   "metadata": {},
   "outputs": [],
   "source": [
    "# Una matriz de variables\n",
    "m = cp.Variable((5, 2))"
   ]
  },
  {
   "cell_type": "markdown",
   "metadata": {},
   "source": [
    "___"
   ]
  },
  {
   "cell_type": "markdown",
   "metadata": {},
   "source": [
    "### Función Objetivo"
   ]
  },
  {
   "cell_type": "markdown",
   "metadata": {},
   "source": [
    "___"
   ]
  },
  {
   "cell_type": "code",
   "execution_count": null,
   "metadata": {},
   "outputs": [],
   "source": [
    "# Funciones a minimizar\n",
    "cp.Minimize(a)\n",
    "cp.Minimize(cp.sum(x))\n"
   ]
  },
  {
   "cell_type": "code",
   "execution_count": null,
   "metadata": {},
   "outputs": [],
   "source": [
    "# Función a maximizar\n",
    "cp.Maximize(a)\n",
    "cp.Maximize(cp.sum(x))"
   ]
  },
  {
   "cell_type": "markdown",
   "metadata": {},
   "source": [
    "___"
   ]
  },
  {
   "cell_type": "markdown",
   "metadata": {},
   "source": [
    "### Restricciones"
   ]
  },
  {
   "cell_type": "markdown",
   "metadata": {},
   "source": [
    "Las restricciones se modelan con expresiones de igualdad y desigualdad\n",
    "con ==, >=, <=. Las desigualdades estrictas < y > no están permitidas. Las\n",
    "expresiones de desigualdad se interpretan elemento a elemento y sigiuendo\n",
    "las reglas de interpretación para escalares, vectores y matrices al estilo \n",
    "de numpy (broadcasting)."
   ]
  },
  {
   "cell_type": "code",
   "execution_count": null,
   "metadata": {},
   "outputs": [],
   "source": [
    "# los 5 elementos del vector de variables x debe ser mayor que 10\n",
    "x <= 10"
   ]
  },
  {
   "cell_type": "code",
   "execution_count": null,
   "metadata": {},
   "outputs": [],
   "source": [
    "# Cada elemento de x debe ser mayor que cada elemento del array c\n",
    "c = np.array([1, 3, 5, 0, 0])\n",
    "x >= c "
   ]
  },
  {
   "cell_type": "code",
   "execution_count": null,
   "metadata": {},
   "outputs": [],
   "source": [
    "# Las expresiones las podemos asignar a variables o \n",
    "# agruparlas en otras estructuras contendedoras, ej. listas\n",
    "constr_m = m <= 10\n",
    "constraints = [constr_m, m >= 0]\n",
    "constraints.append(x<=c)"
   ]
  },
  {
   "cell_type": "code",
   "execution_count": null,
   "metadata": {},
   "outputs": [],
   "source": [
    "# Las desigualdades pueden darse sobre elementos o subconjuntos\n",
    "# de variables, utilizando el indexado y el slicing\n",
    "m[3, 1] <= 9\n",
    "m[4, :] <= 8"
   ]
  },
  {
   "cell_type": "code",
   "execution_count": null,
   "metadata": {},
   "outputs": [],
   "source": [
    "# Podemos mezclar nuestro código con la construcción\n",
    "# de restricciones a nuestra conveniencia"
   ]
  },
  {
   "cell_type": "code",
   "execution_count": null,
   "metadata": {},
   "outputs": [],
   "source": [
    "other_constraints = []\n",
    "for i in range(x.shape[0]):\n",
    "    other_constraints.append(x[i] >= i - 2)"
   ]
  },
  {
   "cell_type": "code",
   "execution_count": null,
   "metadata": {},
   "outputs": [],
   "source": [
    "other_constraints"
   ]
  },
  {
   "cell_type": "markdown",
   "metadata": {},
   "source": [
    "___"
   ]
  },
  {
   "cell_type": "markdown",
   "metadata": {},
   "source": [
    "### Operadores y Funciones\n",
    "La librería trata los operadores +, -, *, / y @ como funciones, conservando la semántica de numpy.\n",
    "- '*' se debe utilizar para multiplicar por un escalar\n",
    "- '@' se debe utilizar para multiplicación de matrices y vectores\n"
   ]
  },
  {
   "cell_type": "code",
   "execution_count": null,
   "metadata": {},
   "outputs": [],
   "source": [
    "# expresiones válidas\n",
    "x*2\n",
    "x + 2*x\n",
    "x @ m \n",
    "m @ m.T"
   ]
  },
  {
   "cell_type": "markdown",
   "metadata": {},
   "source": [
    "La librería contiene un conjunto diverso de funciones para realizar\n",
    "la mayoría de los cálculos matemáticos que nos interesaría hacer\n",
    "sobre expresiones. Consultar una lista mas completa en la [documentación](https://www.cvxpy.org/tutorial/functions/index.html)"
   ]
  },
  {
   "cell_type": "code",
   "execution_count": null,
   "metadata": {},
   "outputs": [],
   "source": [
    "# Suma de los elementos de x\n",
    "cp.sum(x)\n",
    "\n",
    "# Suma de cuadrados de los elementos de x\n",
    "cp.sum_squares(m)"
   ]
  },
  {
   "cell_type": "markdown",
   "metadata": {},
   "source": [
    "### Funciones Elemento a Elemento\n",
    "Algunas funciones se aplican a cada elemento del argumento que le pasemos.\n",
    "Esto implica por ejemplo que obtendremos las mismas dimensiones"
   ]
  },
  {
   "cell_type": "code",
   "execution_count": null,
   "metadata": {},
   "outputs": [],
   "source": [
    "# valor absoluto de cada elemento del vector\n",
    "cp.abs(x)\n",
    "# para cada elemento de la matriz se calcula e^{a_ij}\n",
    "cp.exp(m) "
   ]
  },
  {
   "cell_type": "code",
   "execution_count": null,
   "metadata": {},
   "outputs": [],
   "source": []
  }
 ],
 "metadata": {
  "kernelspec": {
   "display_name": "Python 3",
   "language": "python",
   "name": "python3"
  },
  "language_info": {
   "codemirror_mode": {
    "name": "ipython",
    "version": 3
   },
   "file_extension": ".py",
   "mimetype": "text/x-python",
   "name": "python",
   "nbconvert_exporter": "python",
   "pygments_lexer": "ipython3",
   "version": "3.7.0"
  }
 },
 "nbformat": 4,
 "nbformat_minor": 4
}
