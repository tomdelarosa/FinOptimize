{
 "cells": [
  {
   "cell_type": "markdown",
   "metadata": {},
   "source": [
    "## Programación Cuadrática"
   ]
  },
  {
   "cell_type": "markdown",
   "metadata": {},
   "source": [
    "Este cuaderno muestra varias formas de resolver el problema\n",
    "de optimización de carteras modelado con programación cuadrática."
   ]
  },
  {
   "cell_type": "code",
   "execution_count": null,
   "metadata": {},
   "outputs": [],
   "source": [
    "import numpy as np \n",
    "import pandas as pd\n",
    "import matplotlib.pyplot as plt\n",
    "import cvxpy as cp"
   ]
  },
  {
   "cell_type": "markdown",
   "metadata": {},
   "source": [
    "### Datos"
   ]
  },
  {
   "cell_type": "code",
   "execution_count": null,
   "metadata": {},
   "outputs": [],
   "source": [
    "import pickle"
   ]
  },
  {
   "cell_type": "code",
   "execution_count": null,
   "metadata": {},
   "outputs": [],
   "source": [
    "with open('../data/stock_data.pkl', 'rb') as handle:\n",
    "    stock_data = pickle.load(handle)"
   ]
  },
  {
   "cell_type": "code",
   "execution_count": null,
   "metadata": {},
   "outputs": [],
   "source": [
    "close_dict = {tk: df.close for tk,df in stock_data.items()}\n",
    "stock_close = pd.DataFrame(close_dict)"
   ]
  },
  {
   "cell_type": "code",
   "execution_count": null,
   "metadata": {},
   "outputs": [],
   "source": [
    "data_close = stock_close.loc['2019-01-02':'2019-12-31'].dropna(axis=1)"
   ]
  },
  {
   "cell_type": "markdown",
   "metadata": {},
   "source": [
    "Para simplificar el ejercicio trabajaremos con un universo reducido\n",
    "de 10 activos del IBEX."
   ]
  },
  {
   "cell_type": "code",
   "execution_count": null,
   "metadata": {},
   "outputs": [],
   "source": [
    "data_close = data_close[['ACS','TEF','ITX','GRF','AMS','ENG','MAP','REP','AENA','VIS']]\n",
    "data_close.head()"
   ]
  },
  {
   "cell_type": "markdown",
   "metadata": {},
   "source": [
    "___"
   ]
  },
  {
   "cell_type": "markdown",
   "metadata": {},
   "source": [
    "Calculamos la media de los retornos logaritmicos y la matriz de covarianzas de los\n",
    "retornos"
   ]
  },
  {
   "cell_type": "code",
   "execution_count": null,
   "metadata": {},
   "outputs": [],
   "source": [
    "returns = np.log(data_close).diff().dropna()\n",
    "cov_returns = returns.cov()\n",
    "mean_returns = returns.mean()"
   ]
  },
  {
   "cell_type": "code",
   "execution_count": null,
   "metadata": {},
   "outputs": [],
   "source": [
    "mean_returns"
   ]
  },
  {
   "cell_type": "code",
   "execution_count": null,
   "metadata": {},
   "outputs": [],
   "source": [
    "cov_returns"
   ]
  },
  {
   "cell_type": "markdown",
   "metadata": {},
   "source": [
    "___"
   ]
  },
  {
   "cell_type": "markdown",
   "metadata": {},
   "source": [
    "#### Espacio de posibles carteras\n",
    "Simulamos primero un conjunto aleatorio de pesos para visualizar el espacio\n",
    "de posibles carteras "
   ]
  },
  {
   "cell_type": "code",
   "execution_count": null,
   "metadata": {},
   "outputs": [],
   "source": [
    "n = mean_returns.shape[0]\n",
    "list_ret_p = []\n",
    "list_std_p = []\n",
    "list_w = []\n",
    "for _ in range(10000):\n",
    "    w = np.random.rand(n)           # pesos aleatorios   \n",
    "    w = w / np.sum(w)               # Escalamos para que sumen 1\n",
    "    ret_p = mean_returns.dot(w)\n",
    "    std_p = np.sqrt(w @ cov_returns.values @ w)  \n",
    "    list_ret_p.append(ret_p)\n",
    "    list_std_p.append(std_p)\n",
    "    list_w.append(w)"
   ]
  },
  {
   "cell_type": "code",
   "execution_count": null,
   "metadata": {},
   "outputs": [],
   "source": [
    "fig, ax = plt.subplots(figsize=(10, 7))\n",
    "ax.plot(list_std_p, list_ret_p, '.')"
   ]
  },
  {
   "cell_type": "markdown",
   "metadata": {},
   "source": [
    "___"
   ]
  },
  {
   "cell_type": "markdown",
   "metadata": {},
   "source": [
    "### Cartera de Varianza Mínima \n",
    "Primero haremos un modelo para construir la cartera\n",
    "de varianza mínima"
   ]
  },
  {
   "cell_type": "code",
   "execution_count": null,
   "metadata": {},
   "outputs": [],
   "source": [
    "Sigma = cov_returns.values\n",
    "mu = mean_returns.values"
   ]
  },
  {
   "cell_type": "code",
   "execution_count": null,
   "metadata": {},
   "outputs": [],
   "source": [
    "mu"
   ]
  },
  {
   "cell_type": "code",
   "execution_count": null,
   "metadata": {},
   "outputs": [],
   "source": [
    "w = cp.Variable(n)\n",
    "\n",
    "port_risk = cp.quad_form(w, Sigma)\n",
    "port_ret = mu @ w\n",
    "constraints = [\n",
    "    cp.sum(w) == 1, \n",
    "    w >= 0\n",
    "]\n",
    "prob = cp.Problem(cp.Minimize(port_risk), \n",
    "                  constraints) \n",
    "prob.solve()"
   ]
  },
  {
   "cell_type": "code",
   "execution_count": null,
   "metadata": {},
   "outputs": [],
   "source": [
    "cartera = pd.Series(w.value, index=returns.columns).round(3)\n",
    "cartera.plot.pie()"
   ]
  },
  {
   "cell_type": "code",
   "execution_count": null,
   "metadata": {},
   "outputs": [],
   "source": [
    "cartera"
   ]
  },
  {
   "cell_type": "code",
   "execution_count": null,
   "metadata": {},
   "outputs": [],
   "source": [
    "port_risk.value, port_ret.value"
   ]
  },
  {
   "cell_type": "markdown",
   "metadata": {},
   "source": [
    "Vemos donde se situa el portfolio de varianza mínima en el \n",
    "espacio de carteras"
   ]
  },
  {
   "cell_type": "code",
   "execution_count": null,
   "metadata": {},
   "outputs": [],
   "source": [
    "port_std = np.sqrt(port_risk.value)\n",
    "port_return =  port_ret"
   ]
  },
  {
   "cell_type": "code",
   "execution_count": null,
   "metadata": {},
   "outputs": [],
   "source": [
    "fig, ax = plt.subplots(figsize=(10, 7))\n",
    "ax.plot(list_std_p, list_ret_p, '.')\n",
    "ax.plot(port_std, port_return.value, '*', markersize=15)"
   ]
  },
  {
   "cell_type": "markdown",
   "metadata": {},
   "source": [
    "___"
   ]
  },
  {
   "cell_type": "markdown",
   "metadata": {},
   "source": [
    "### Calculo de la Frontera Eficiente"
   ]
  },
  {
   "cell_type": "code",
   "execution_count": null,
   "metadata": {},
   "outputs": [],
   "source": [
    "def efficient_frontier(returns, n_samples=50, gamma_low=-1, gamma_high=10):\n",
    "    \"\"\"\n",
    "    construye un conjunto de problemas de programación cuádrática\n",
    "    para inferir la frontera eficiente de Markovitz. \n",
    "    En cada problema el parámetro gamma se cambia para aumentar\n",
    "    la penalización del riesgo en la función de maximización.\n",
    "    \"\"\"\n",
    "    sigma = returns.cov().values\n",
    "    mu = np.mean(returns, axis=0).values  \n",
    "    n = sigma.shape[0]        \n",
    "    w = cp.Variable(n)\n",
    "    gamma = cp.Parameter(nonneg=True)\n",
    "    ret = mu.T @ w\n",
    "    risk = cp.quad_form(w, sigma)\n",
    "    \n",
    "    prob = cp.Problem(cp.Maximize(ret - gamma*risk), \n",
    "                      [cp.sum(w) == 1,  w >= 0]) \n",
    "    # Equivalente \n",
    "    #prob = cp.Problem(cp.Minimize(risk - gamma*ret), \n",
    "    #                  [cp.sum(w) == 1,  w >= 0])   \n",
    "    risk_data = np.zeros(n_samples)\n",
    "    ret_data = np.zeros(n_samples)\n",
    "    gamma_vals = np.logspace(gamma_low, gamma_high, num=n_samples)\n",
    "    \n",
    "    portfolio_weights = []    \n",
    "    for i in range(n_samples):\n",
    "        gamma.value = gamma_vals[i]\n",
    "        prob.solve()\n",
    "        risk_data[i] = np.sqrt(risk.value)\n",
    "        ret_data[i] = ret.value\n",
    "        portfolio_weights.append(w.value)   \n",
    "    return ret_data, risk_data, gamma_vals, portfolio_weights\n",
    "\n"
   ]
  },
  {
   "cell_type": "code",
   "execution_count": null,
   "metadata": {},
   "outputs": [],
   "source": [
    "ret_data, risk_data, gamma_vals, portfolio_weights = efficient_frontier(returns)"
   ]
  },
  {
   "cell_type": "code",
   "execution_count": null,
   "metadata": {},
   "outputs": [],
   "source": [
    "#portfolio_weights"
   ]
  },
  {
   "cell_type": "markdown",
   "metadata": {},
   "source": [
    "### Cartera Óptima\n",
    "Para determinar la **cartera con mejor ratio sharpe**, sacamos todos los\n",
    "ratios Sharpe y elegimos donde ocurre el máximo"
   ]
  },
  {
   "cell_type": "code",
   "execution_count": null,
   "metadata": {},
   "outputs": [],
   "source": [
    "sharpes = ret_data/risk_data \n",
    "idx = np.argmax(sharpes)\n",
    "optimal_ret, optimal_risk = ret_data[idx], risk_data[idx]\n",
    "optimal_portfolio = pd.Series(portfolio_weights[idx],\n",
    "                              index=returns.columns).round(3)"
   ]
  },
  {
   "cell_type": "code",
   "execution_count": null,
   "metadata": {},
   "outputs": [],
   "source": [
    "sharpes"
   ]
  },
  {
   "cell_type": "markdown",
   "metadata": {},
   "source": [
    "Dibujamos la frontera eficiente y donde ocurre la cartera optima"
   ]
  },
  {
   "cell_type": "code",
   "execution_count": null,
   "metadata": {},
   "outputs": [],
   "source": [
    "fig, ax = plt.subplots(figsize=(10, 7))\n",
    "plt.plot(list_std_p, list_ret_p, '.')\n",
    "ax.plot(risk_data, ret_data, 'y')\n",
    "ax.plot(optimal_risk, optimal_ret, '*', markersize=15)\n",
    "_ = ax.set_xlabel('std')\n",
    "_ = ax.set_ylabel('mean')\n"
   ]
  },
  {
   "cell_type": "code",
   "execution_count": null,
   "metadata": {},
   "outputs": [],
   "source": [
    "optimal_portfolio.plot.pie()"
   ]
  },
  {
   "cell_type": "code",
   "execution_count": null,
   "metadata": {},
   "outputs": [],
   "source": [
    "optimal_portfolio"
   ]
  },
  {
   "cell_type": "markdown",
   "metadata": {},
   "source": [
    "___"
   ]
  },
  {
   "cell_type": "markdown",
   "metadata": {},
   "source": [
    "### Ejercicios Propuestos"
   ]
  },
  {
   "cell_type": "markdown",
   "metadata": {},
   "source": [
    "1. Para evitar grandes posiciones grandes que puedan surgir en la cartera óptima limitaremos \n",
    "el tamaño máximo que se puede asignar a cada peso.  Para este ejercicio proponemos:\n",
    "    - modificar la función de la frontera eficiente para que acepte las restricciones de peso máximo y peso mínimo por posición \n",
    "    - añadir al gráfico original las fronteras eficientes correspondientes a carteras que tienen posiciones máximas de 20 y 15%\n",
    "2. Para centrarnos en empresas de más capitalización hemos decidido que las empresas que tienen menos de 10 mil millones de capitalización no deben sumar más del 25% de la cartera. En nuestro universo de activos esto corresponde a ACS, MAP, ENG y VIS.\n"
   ]
  },
  {
   "cell_type": "code",
   "execution_count": null,
   "metadata": {},
   "outputs": [],
   "source": []
  }
 ],
 "metadata": {
  "kernelspec": {
   "display_name": "Python 3",
   "language": "python",
   "name": "python3"
  },
  "language_info": {
   "codemirror_mode": {
    "name": "ipython",
    "version": 3
   },
   "file_extension": ".py",
   "mimetype": "text/x-python",
   "name": "python",
   "nbconvert_exporter": "python",
   "pygments_lexer": "ipython3",
   "version": "3.7.0"
  }
 },
 "nbformat": 4,
 "nbformat_minor": 4
}
