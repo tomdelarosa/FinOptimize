{
 "cells": [
  {
   "cell_type": "markdown",
   "metadata": {},
   "source": [
    "## Programación Cuadrática\n",
    "### Estimación de Pesos de un Indice Bursátil\n",
    "Este cuaderno muestra un ejemplo de como utilizar una\n",
    "optimización de mínimos cuadrados con restricciones para estimar\n",
    "los pesos de los componentes del IBEX35"
   ]
  },
  {
   "cell_type": "code",
   "execution_count": null,
   "metadata": {},
   "outputs": [],
   "source": [
    "import os, sys\n",
    "import pandas as pd\n",
    "import numpy as np\n",
    "import matplotlib.pyplot as plt\n",
    "import cvxpy as cp"
   ]
  },
  {
   "cell_type": "code",
   "execution_count": null,
   "metadata": {},
   "outputs": [],
   "source": [
    "import pickle\n",
    "with open('../data/stock_data.pkl','rb') as f:\n",
    "    stock_data = pickle.load(f)\n",
    "with open('../data/benchmark.pkl','rb') as f:\n",
    "    benchmark_data = pickle.load(f)\n",
    "    "
   ]
  },
  {
   "cell_type": "code",
   "execution_count": null,
   "metadata": {},
   "outputs": [],
   "source": [
    "stock_close = pd.DataFrame({\n",
    "    ticker: df.close for ticker, df in stock_data.items()\n",
    "})"
   ]
  },
  {
   "cell_type": "code",
   "execution_count": null,
   "metadata": {},
   "outputs": [],
   "source": [
    "stock_close.head()"
   ]
  },
  {
   "cell_type": "markdown",
   "metadata": {},
   "source": [
    "Trabajaremos con una ventana de 35 dias para simular una matriz cuadrada\n",
    "de 35x35 que sería suficiente para resolver el problema de minimos cuadrados\n",
    "de forma algebraica"
   ]
  },
  {
   "cell_type": "code",
   "execution_count": null,
   "metadata": {},
   "outputs": [],
   "source": [
    "win_data = stock_close.loc['2020-07-06':'2020-08-21']\n",
    "win_data = win_data.dropna(axis=1)"
   ]
  },
  {
   "cell_type": "code",
   "execution_count": null,
   "metadata": {},
   "outputs": [],
   "source": [
    "print(win_data.shape)\n",
    "win_data.head()"
   ]
  },
  {
   "cell_type": "code",
   "execution_count": null,
   "metadata": {},
   "outputs": [],
   "source": [
    "ibex_close = benchmark_data['ibex_div'].close\n",
    "win_ibex = ibex_close.reindex(win_data.index)\n",
    "win_ibex.head()"
   ]
  },
  {
   "cell_type": "markdown",
   "metadata": {},
   "source": [
    "Convertimos los precios a precios relativos respecto al primer\n",
    "día de la ventana "
   ]
  },
  {
   "cell_type": "code",
   "execution_count": null,
   "metadata": {},
   "outputs": [],
   "source": [
    "prices_norm = win_data.apply(lambda s: s/s.iloc[0])\n",
    "ibex_norm = win_ibex/win_ibex.iloc[0]"
   ]
  },
  {
   "cell_type": "code",
   "execution_count": null,
   "metadata": {},
   "outputs": [],
   "source": [
    "prices_norm.head()"
   ]
  },
  {
   "cell_type": "markdown",
   "metadata": {},
   "source": [
    "#### Las variables de decisión\n",
    "- los pesos de cada componente\n",
    "- el término de error para cada día"
   ]
  },
  {
   "cell_type": "code",
   "execution_count": null,
   "metadata": {},
   "outputs": [],
   "source": [
    "window = 35\n",
    "n_stocks = prices_norm.shape[1]\n",
    "var_w = cp.Variable(n_stocks)\n",
    "var_epsilon = cp.Variable(window)"
   ]
  },
  {
   "cell_type": "markdown",
   "metadata": {},
   "source": [
    "#### Restricciones\n",
    "\n",
    "- Para cada día queremos que el precio relativo por el peso de cada componente se parezca al valor del precio relativo del indice \n",
    "- La suma de los pesos debe ser 1\n",
    "- Podemos limitar los pesos máximos y minimos. Como requerimiento debemos al menos asegurar que los pesos son positivos "
   ]
  },
  {
   "cell_type": "code",
   "execution_count": null,
   "metadata": {},
   "outputs": [],
   "source": [
    "c_changes = []\n",
    "for i in range(window):\n",
    "    i_constraint = cp.sum(cp.multiply(var_w, prices_norm.iloc[i].values)) - ibex_norm[i] == var_epsilon[i] \n",
    "    c_changes.append(i_constraint)\n",
    "\n",
    "constraints = [\n",
    "    var_w <= 0.25, \n",
    "    var_w >= 0.003, \n",
    "    cp.sum(var_w) <= 1.0,\n",
    "    cp.sum(var_w) >= 1.0\n",
    "]        \n",
    "constraints.extend(c_changes)"
   ]
  },
  {
   "cell_type": "markdown",
   "metadata": {},
   "source": [
    "#### Función objetivo\n",
    "Minimizar la suma de los cuadrados de los errores diarios respecto al indice"
   ]
  },
  {
   "cell_type": "code",
   "execution_count": null,
   "metadata": {},
   "outputs": [],
   "source": [
    "objective = cp.Minimize( cp.sum_squares(var_epsilon))"
   ]
  },
  {
   "cell_type": "markdown",
   "metadata": {},
   "source": [
    "Resolvemos el problema y almacenamos el resultado de los pesos"
   ]
  },
  {
   "cell_type": "code",
   "execution_count": null,
   "metadata": {},
   "outputs": [],
   "source": [
    "prob = cp.Problem(objective, constraints)\n",
    "prob.solve()"
   ]
  },
  {
   "cell_type": "code",
   "execution_count": null,
   "metadata": {},
   "outputs": [],
   "source": [
    "errors = pd.Series(var_epsilon.value)\n",
    "index_weights = pd.Series(var_w.value, index=prices_norm.columns)"
   ]
  },
  {
   "cell_type": "markdown",
   "metadata": {},
   "source": [
    "Las variables de decisión estan referenciando a los pesos del primer\n",
    "día.  Sacamos los pesos al último día de la serie"
   ]
  },
  {
   "cell_type": "code",
   "execution_count": null,
   "metadata": {},
   "outputs": [],
   "source": [
    "index_weights.sum()"
   ]
  },
  {
   "cell_type": "code",
   "execution_count": null,
   "metadata": {},
   "outputs": [],
   "source": [
    "index_weights.sort_values(ascending=False)"
   ]
  },
  {
   "cell_type": "markdown",
   "metadata": {},
   "source": [
    "Miramos los errores obtenidos por día para verificar que no existe ningún patrón relevante"
   ]
  },
  {
   "cell_type": "code",
   "execution_count": null,
   "metadata": {},
   "outputs": [],
   "source": [
    "errors.plot()"
   ]
  },
  {
   "cell_type": "code",
   "execution_count": null,
   "metadata": {},
   "outputs": [],
   "source": []
  }
 ],
 "metadata": {
  "kernelspec": {
   "display_name": "Python 3",
   "language": "python",
   "name": "python3"
  },
  "language_info": {
   "codemirror_mode": {
    "name": "ipython",
    "version": 3
   },
   "file_extension": ".py",
   "mimetype": "text/x-python",
   "name": "python",
   "nbconvert_exporter": "python",
   "pygments_lexer": "ipython3",
   "version": "3.7.0"
  }
 },
 "nbformat": 4,
 "nbformat_minor": 4
}
