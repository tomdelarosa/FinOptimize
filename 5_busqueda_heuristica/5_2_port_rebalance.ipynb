{
 "cells": [
  {
   "cell_type": "markdown",
   "metadata": {},
   "source": [
    "## Algoritmos de Búsqueda\n",
    "### Plan de Reasignación de Carteras"
   ]
  },
  {
   "cell_type": "markdown",
   "metadata": {},
   "source": [
    "En este cuaderno se resuelve el cambio de una cartera actual a una cartera objetivo de una forma\n",
    "alternativa.  Se plantea como encontrar la secuencia de pasos u \"operaciones\" que hay que realizar.\n",
    "En este caso incluiremos las opciones de comprar, vender o traspasar fondos de inversión"
   ]
  },
  {
   "cell_type": "code",
   "execution_count": null,
   "metadata": {},
   "outputs": [],
   "source": [
    "import numpy as np \n",
    "import pandas as pd\n",
    "import simpleai as ai\n",
    "from collections import defaultdict"
   ]
  },
  {
   "cell_type": "code",
   "execution_count": null,
   "metadata": {},
   "outputs": [],
   "source": [
    "from simpleai.search import SearchProblem, astar, breadth_first"
   ]
  },
  {
   "cell_type": "markdown",
   "metadata": {},
   "source": [
    "### Datos \n",
    "Tenemos una lista de fondos para nuestro universo, con la característica que nos indica si son traspasables o no"
   ]
  },
  {
   "cell_type": "code",
   "execution_count": null,
   "metadata": {},
   "outputs": [],
   "source": [
    "asset_df = pd.read_csv('../data/asset_data.csv', index_col=0)\n",
    "asset_df"
   ]
  },
  {
   "cell_type": "markdown",
   "metadata": {},
   "source": [
    "Definimos de ejemplo la cartera actual y la cartera objetivo "
   ]
  },
  {
   "cell_type": "code",
   "execution_count": null,
   "metadata": {},
   "outputs": [],
   "source": [
    "port_init = {\n",
    "    'FR0010693051': 5000,\n",
    "    'IE00B66F4759': 4000,\n",
    "    'IE00B2NPKV68': 3000,\n",
    "    'LU0318940003': 2000,\n",
    "}\n",
    "port_goal = {\n",
    "    'FR0010693051': 2500,\n",
    "    'LU0318940003': 4500,\n",
    "    'IE00B4ND3602': 2500,\n",
    "    'LU0582533245': 3500,\n",
    "}"
   ]
  },
  {
   "cell_type": "markdown",
   "metadata": {},
   "source": [
    "___"
   ]
  },
  {
   "cell_type": "markdown",
   "metadata": {},
   "source": [
    "### Representación del Problema\n",
    "    - Estados: la cartera en cada nodo\n",
    "    - Acciones: la operación ejecutada para cambiar de estado\n",
    "    - Problema: instancia de SearchProblem con nuestro problema "
   ]
  },
  {
   "cell_type": "code",
   "execution_count": null,
   "metadata": {},
   "outputs": [],
   "source": [
    "class FundAction:\n",
    "    \"\"\"\n",
    "    Clase que define una operación\n",
    "        tag: texto para identificar la operación\n",
    "        money: guarda la cantidad de la operacion\n",
    "        orig: el fondo de origen (vacio para compras)\n",
    "        dest: el fondo de destino. (vacio para ventas)\n",
    "    \"\"\"\n",
    "    def __init__(self, tag, money, orig='', dest=''):\n",
    "        self.tag = tag\n",
    "        self.orig = orig\n",
    "        self.money = money\n",
    "        self.dest = dest\n",
    "        \n",
    "    def __str__(self):\n",
    "        return f'[{self.tag} {self.money} {self.orig} {self.dest}]'\n",
    "    \n",
    "    def __repr__(self):\n",
    "        return f'[{self.tag} {self.money} {self.orig} {self.dest}]'\n",
    "        "
   ]
  },
  {
   "cell_type": "code",
   "execution_count": null,
   "metadata": {},
   "outputs": [],
   "source": [
    "class PortState:\n",
    "    \"\"\"\n",
    "    Clase que representa un estado del problema, o sea una cartera\n",
    "    \"\"\"\n",
    "    def __init__(self, port_dict):\n",
    "        self.funds = defaultdict(float, port_dict)\n",
    "    def __str__(self):\n",
    "        items = [f'{k}:{val}' for k, val in self.funds.items()]\n",
    "        return '\\n'.join(items)\n",
    "    def __repr__(self):\n",
    "        items = [f'{k}:{val}' for k, val in self.funds.items()]\n",
    "        return '\\n'.join(items)"
   ]
  },
  {
   "cell_type": "code",
   "execution_count": null,
   "metadata": {},
   "outputs": [],
   "source": [
    "PortState(port_goal)"
   ]
  },
  {
   "cell_type": "code",
   "execution_count": null,
   "metadata": {},
   "outputs": [],
   "source": [
    "class Rebalancer(SearchProblem):\n",
    "    \"\"\"\n",
    "    Clase que representa nuestro problema de búsqueda\n",
    "    Iniciamos con la cartera actual, la cartera objetivo y los\n",
    "    datos del universo de fondos\n",
    "    \"\"\"\n",
    "    def __init__(self, current, target, asset_data): \n",
    "        self.asset_data = asset_data\n",
    "        \n",
    "        current['_CASH_'] = 0\n",
    "        curr_total = sum(current.values())\n",
    "        target_total = sum(target.values())\n",
    "        target['_CASH_'] = curr_total - target_total\n",
    "        \n",
    "        self.current = PortState(current)\n",
    "        self.target = PortState(target)\n",
    "        \n",
    "        self.generados = 0\n",
    "        SearchProblem.__init__(self, initial_state=self.current)\n",
    "    \n",
    "    def _act_traspasos(self, state):\n",
    "        \"\"\"\n",
    "        funcion auxiliar que calcula los traspasos aplicables en un estado\n",
    "        \"\"\"\n",
    "        # identificamos los traspasables de salida\n",
    "        tras_out = {f: val for f, val in state.funds.items()\n",
    "                    if f != '_CASH_' and self.asset_data.traspasable[f]}\n",
    "\n",
    "        # identificamos los traspasables de entrada\n",
    "        tras_in = {f: val for f, val in self.target.funds.items()\n",
    "                   if  f != '_CASH_' and self.asset_data.traspasable[f]}\n",
    "        \n",
    "        t_actions = list()\n",
    "        for f_from, val_from in tras_out.items():\n",
    "            for f_to, val_to in tras_in.items():\n",
    "                \n",
    "                # solo si son distintos y la posicion de destino es mayor\n",
    "                curr_to = state.funds[f_to]\n",
    "                if f_from != f_to and val_to > curr_to:\n",
    "                    delta = min(val_to - curr_to, val_from)\n",
    "                    if val_from == delta:\n",
    "                        act_tag = \"TRASPASO\"\n",
    "                    else:\n",
    "                        act_tag = \"TRASPASO_PARCIAL\"\n",
    "                    action = FundAction(tag=act_tag,\n",
    "                                        orig=f_from,\n",
    "                                        money=delta,\n",
    "                                        dest=f_to)\n",
    "                    t_actions.append(action)       \n",
    "\n",
    "        return t_actions\n",
    "    \n",
    "    def _act_sell(self, state):\n",
    "        \"\"\"\n",
    "        funcion auxiliar que calcula las ventas aplicables en un estado\n",
    "        \"\"\"\n",
    "        s_actions = list()\n",
    "        \n",
    "        for f, val in state.funds.items():\n",
    "            if f == '_CASH_':\n",
    "                continue\n",
    "            target_val = self.target.funds[f]\n",
    "            \n",
    "            if val > target_val:\n",
    "                delta = -(target_val - val)\n",
    "                if f in self.target.funds.keys():\n",
    "                    act_tag = 'VENTA PARCIAL'\n",
    "                else:\n",
    "                    act_tag = 'VENTA'\n",
    "                \n",
    "                action = FundAction(tag=act_tag,\n",
    "                                    orig=f,\n",
    "                                    money=delta)\n",
    "\n",
    "                s_actions.append(action)\n",
    "            \n",
    "        return s_actions\n",
    "            \n",
    "    def _act_buy(self, state):\n",
    "        \"\"\"\n",
    "        funcion auxiliar que calcula las compras aplicables en un estado\n",
    "        \"\"\"\n",
    "        \n",
    "        b_actions = list()\n",
    "        for f, val in self.target.funds.items():\n",
    "            if f == '_CASH_':\n",
    "                continue\n",
    "                \n",
    "            # posicion actual o 0\n",
    "            curr_val = state.funds[f]\n",
    "            \n",
    "            # si la posicion final es mayor y podemos comprarla ahora\n",
    "            if (val > curr_val and state.funds['_CASH_'] > val - curr_val): \n",
    "                delta = val - curr_val\n",
    "                   \n",
    "                if curr_val == 0:\n",
    "                    act_tag = \"COMPRA\" \n",
    "                else:\n",
    "                    act_tag = \"COMPRA PARCIAL\"\n",
    "                    \n",
    "                action = FundAction(tag=act_tag,\n",
    "                                    dest=f,\n",
    "                                    money=delta)\n",
    "                b_actions.append(action)\n",
    "        return b_actions\n",
    "        \n",
    "    def actions(self, state):\n",
    "        \"\"\"\n",
    "        Calcula todas las acciones aplicables en un estado a partir\n",
    "        de las funciones auxiliares de cada tipo\n",
    "        \"\"\"\n",
    "        succ = list()\n",
    "      \n",
    "        succ.extend(self._act_traspasos(state))\n",
    "        succ.extend(self._act_sell(state))\n",
    "        succ.extend(self._act_buy(state))\n",
    "        \n",
    "        return succ\n",
    "    \n",
    "    def result(self, state, action):\n",
    "        \"\"\"calcula el estado resultante de aplicar una acción a un estado\"\"\"\n",
    "        \n",
    "        new_state = PortState(state.funds.copy())\n",
    "        \n",
    "        orig = action.orig if action.orig != '' else '_CASH_'\n",
    "        dest = action.dest if action.dest != '' else '_CASH_'\n",
    "        \n",
    "        new_state.funds[orig] = new_state.funds[orig] - action.money\n",
    "        new_state.funds[dest] = new_state.funds[dest] + action.money\n",
    "        \n",
    "        self.generados += 1\n",
    "        \n",
    "        return new_state\n",
    "\n",
    "    def is_goal(self, state):\n",
    "        \"\"\"\n",
    "        identifica si un estado es la cartera objetivo\n",
    "        \"\"\"\n",
    "        check_funds = {f: val for f, val in state.funds.items() \n",
    "                       if f != '_CASH_'}\n",
    "        for f, val in check_funds.items():\n",
    "            if self.target.funds[f] != val: \n",
    "                return False\n",
    "        return True        \n",
    "        \n",
    "    def heuristic(self, state):\n",
    "        \"\"\"\n",
    "        Calcula el minimo de operaciones hipotéticas calculadas de forma trivial\n",
    "        Esto es, a partir de la diferencia con la meta, calcula la mitad de los\n",
    "        fondos que no son 0.  Como mínimo tendriamos que hacer un traspaso para\n",
    "        arreglas 2 discrepancias\n",
    "        \"\"\"\n",
    "        serie_current = pd.Series(state.funds)\n",
    "        serie_current.drop('_CASH_', inplace=True)\n",
    "        serie_goal = pd.Series(self.target.funds)\n",
    "        serie_goal.drop('_CASH_', inplace=True)\n",
    "        \n",
    "        diff_port = serie_goal - serie_current \n",
    "        real_diff = diff_port[diff_port != 0]\n",
    "        return real_diff.shape[0]/2"
   ]
  },
  {
   "cell_type": "code",
   "execution_count": null,
   "metadata": {},
   "outputs": [],
   "source": [
    "rebalancer = Rebalancer(port_init, port_goal, asset_df)"
   ]
  },
  {
   "cell_type": "code",
   "execution_count": null,
   "metadata": {},
   "outputs": [],
   "source": [
    "rebalancer.current"
   ]
  },
  {
   "cell_type": "markdown",
   "metadata": {},
   "source": [
    "vemos las acciones aplicables en el estado inicial"
   ]
  },
  {
   "cell_type": "code",
   "execution_count": null,
   "metadata": {},
   "outputs": [],
   "source": [
    "aplicables = rebalancer.actions(rebalancer.current)\n",
    "aplicables"
   ]
  },
  {
   "cell_type": "code",
   "execution_count": null,
   "metadata": {},
   "outputs": [],
   "source": [
    "rebalancer.result(rebalancer.current, aplicables[0])"
   ]
  },
  {
   "cell_type": "code",
   "execution_count": null,
   "metadata": {},
   "outputs": [],
   "source": [
    "rebalancer.heuristic(rebalancer.current)"
   ]
  },
  {
   "cell_type": "code",
   "execution_count": null,
   "metadata": {},
   "outputs": [],
   "source": [
    "rebalancer.cost(rebalancer.current, aplicables[0], _)"
   ]
  },
  {
   "cell_type": "code",
   "execution_count": null,
   "metadata": {},
   "outputs": [],
   "source": [
    "rebalancer.generados"
   ]
  },
  {
   "cell_type": "markdown",
   "metadata": {},
   "source": [
    "___"
   ]
  },
  {
   "cell_type": "markdown",
   "metadata": {},
   "source": [
    "### Resolución con algoritmo primero en amplitud"
   ]
  },
  {
   "cell_type": "markdown",
   "metadata": {},
   "source": [
    "Resolvemos el problema ejecutando el algoritmo de búsqueda"
   ]
  },
  {
   "cell_type": "code",
   "execution_count": null,
   "metadata": {},
   "outputs": [],
   "source": [
    "plan_result = breadth_first(rebalancer, graph_search=True)"
   ]
  },
  {
   "cell_type": "markdown",
   "metadata": {},
   "source": [
    "Vemos el estado final y el plan de operaciones"
   ]
  },
  {
   "cell_type": "code",
   "execution_count": null,
   "metadata": {},
   "outputs": [],
   "source": [
    "print(plan_result.state)\n",
    "for i, i_state_action in enumerate(plan_result.path()):\n",
    "    print(f'[{i}] {i_state_action[0]}')"
   ]
  },
  {
   "cell_type": "code",
   "execution_count": null,
   "metadata": {},
   "outputs": [],
   "source": [
    "rebalancer.generados"
   ]
  },
  {
   "cell_type": "markdown",
   "metadata": {},
   "source": [
    "___"
   ]
  },
  {
   "cell_type": "markdown",
   "metadata": {},
   "source": [
    "### Resolución con algoritmo A*"
   ]
  },
  {
   "cell_type": "code",
   "execution_count": null,
   "metadata": {},
   "outputs": [],
   "source": [
    "rebalancer2 = Rebalancer(port_init, port_goal, asset_df)"
   ]
  },
  {
   "cell_type": "code",
   "execution_count": null,
   "metadata": {},
   "outputs": [],
   "source": [
    "result2 = astar(rebalancer2, graph_search=True)"
   ]
  },
  {
   "cell_type": "code",
   "execution_count": null,
   "metadata": {},
   "outputs": [],
   "source": [
    "print(result2.state)\n",
    "for i, i_state_action in enumerate(result2.path()):\n",
    "    print(f'[{i}] {i_state_action[0]}')"
   ]
  },
  {
   "cell_type": "code",
   "execution_count": null,
   "metadata": {},
   "outputs": [],
   "source": [
    "rebalancer2.generados"
   ]
  },
  {
   "cell_type": "code",
   "execution_count": null,
   "metadata": {},
   "outputs": [],
   "source": []
  }
 ],
 "metadata": {
  "kernelspec": {
   "display_name": "Python 3",
   "language": "python",
   "name": "python3"
  },
  "language_info": {
   "codemirror_mode": {
    "name": "ipython",
    "version": 3
   },
   "file_extension": ".py",
   "mimetype": "text/x-python",
   "name": "python",
   "nbconvert_exporter": "python",
   "pygments_lexer": "ipython3",
   "version": "3.7.0"
  }
 },
 "nbformat": 4,
 "nbformat_minor": 4
}
