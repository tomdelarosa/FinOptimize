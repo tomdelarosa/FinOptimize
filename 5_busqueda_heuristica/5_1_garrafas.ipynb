{
 "cells": [
  {
   "cell_type": "markdown",
   "metadata": {},
   "source": [
    "## Algoritmos de Búsqueda \n",
    "### Ejemplo Garrafas\n",
    "En este cuaderno se muestra la implementación del *problema de las garrafas*\n",
    "utilizando la librería [simpleai](https://simpleai.readthedocs.io/en/latest/). \n",
    "Esta librería, sobre todo para fines docentes, tiene implementados muchos\n",
    "de los algoritmos de Inteligencia Artificial descritos el el libro\n",
    "[“Artificial Intelligence, a Modern Approach”](http://aima.cs.berkeley.edu/) de Russell & Norvig.\n",
    "\n"
   ]
  },
  {
   "cell_type": "code",
   "execution_count": null,
   "metadata": {},
   "outputs": [],
   "source": [
    "from simpleai.search import SearchProblem, breadth_first, depth_first"
   ]
  },
  {
   "cell_type": "markdown",
   "metadata": {},
   "source": [
    "Para utilizar los algoritmos tenemos que implementar el modelo de estados, que será específico de cada\n",
    "problema.  Se parte de heredar la clase *SearchProblem* y se tienen que implementar los siguientes \n",
    "métodos.\n",
    "- <tt>actions</tt>: Dado un estado debe retornar una lista  de acciones que son aplicables en dicho estado. \n",
    "- <tt>result</tt>: Dado un estado y el nombre de una acción calcula el estado resultante al aplicar los efectos\n",
    "de la acción\n",
    "- <tt>is_goal</tt>: Dado un estado respoonde True si el estado contiene las metas del problema.\n",
    "\n",
    "\n",
    "Para ver más detalles del uso de la librería con algoritmos de búsqueda, se puede consultar la documentación en la \n",
    "sección de [search algorithms](https://simpleai.readthedocs.io/en/latest/search_problems.html)"
   ]
  },
  {
   "cell_type": "markdown",
   "metadata": {},
   "source": [
    "___"
   ]
  },
  {
   "cell_type": "markdown",
   "metadata": {},
   "source": [
    "La representación de estados es directa. Utilizaremos una tupla (p,g) para indicar la cantidad de agua\n",
    "que hay en las garrafas p y q respectivamente. "
   ]
  },
  {
   "cell_type": "code",
   "execution_count": null,
   "metadata": {},
   "outputs": [],
   "source": [
    "class Garrafas(SearchProblem):\n",
    "    def actions(self, state):\n",
    "        succ = list()\n",
    "        \n",
    "        if state[0] < 5:\n",
    "            succ.append('llenar grande')\n",
    "        if state[0] > 0:\n",
    "            succ.append('vaciar grande')\n",
    "        if state[1] < 3:\n",
    "            succ.append('llenar peque')\n",
    "        if state[1] > 0:\n",
    "            succ.append('vaciar peque')\n",
    "        \n",
    "        # verter grande en pequeña\n",
    "        if state[0] > 0 and state[1] < 3:\n",
    "            succ.append('verter en peque')\n",
    "        if state[0] < 5 and state[1] > 0:\n",
    "            succ.append('verter en grande')\n",
    "\n",
    "        return succ\n",
    "    \n",
    "    def result(self, state, action):\n",
    "        \n",
    "        if action == 'llenar grande':\n",
    "            new_state = (5, state[1])\n",
    "        elif action == 'vaciar grande':\n",
    "            new_state = (0, state[1])\n",
    "        elif action == 'llenar peque':\n",
    "            new_state = (state[0], 3)\n",
    "        elif action == 'vaciar peque':\n",
    "            new_state = (state[0], 0)\n",
    "        elif action == 'verter en peque':\n",
    "            grande = state[0] - min(state[0], 3 - state[1])\n",
    "            peque = state[1] + min(state[0], 3 - state[1])\n",
    "            new_state = (grande, peque)\n",
    "        elif action == 'verter en grande':\n",
    "            grande = state[0] + min(5 - state[0], state[1])\n",
    "            peque = state[1] - min(5 - state[0], state[1])\n",
    "            new_state = (grande, peque)\n",
    "        else:\n",
    "            raise ValueError(f'accion {action} no reconocida')\n",
    "            \n",
    "        return new_state\n",
    "\n",
    "    def is_goal(self, state):\n",
    "        if state[0] == 4:\n",
    "            return True\n",
    "        else:\n",
    "            return False\n",
    "\n",
    "    def heuristic(self, state):\n",
    "        return 1"
   ]
  },
  {
   "cell_type": "markdown",
   "metadata": {},
   "source": [
    "Se construye el problema con nuestra nueva clase definida, \n",
    "y la iniciamos con el estado inicial de las garrafas vacías"
   ]
  },
  {
   "cell_type": "code",
   "execution_count": null,
   "metadata": {},
   "outputs": [],
   "source": [
    "problem = Garrafas(initial_state=(0,0))"
   ]
  },
  {
   "cell_type": "markdown",
   "metadata": {},
   "source": [
    "el resultado de ejecutar el algoritmo es una estructura de datos de la que podemos\n",
    "sacar el estado final y la secuencia de acciones a ejecutar "
   ]
  },
  {
   "cell_type": "code",
   "execution_count": null,
   "metadata": {},
   "outputs": [],
   "source": [
    "result = breadth_first(problem, graph_search=True)"
   ]
  },
  {
   "cell_type": "markdown",
   "metadata": {},
   "source": [
    "El **estado final**"
   ]
  },
  {
   "cell_type": "code",
   "execution_count": null,
   "metadata": {},
   "outputs": [],
   "source": [
    "result.state"
   ]
  },
  {
   "cell_type": "markdown",
   "metadata": {},
   "source": [
    "El **plan**"
   ]
  },
  {
   "cell_type": "code",
   "execution_count": null,
   "metadata": {},
   "outputs": [],
   "source": [
    "for i, i_state_action in enumerate(result.path()):\n",
    "    print(f'[{i}] {i_state_action}')\n",
    "    "
   ]
  },
  {
   "cell_type": "code",
   "execution_count": null,
   "metadata": {},
   "outputs": [],
   "source": []
  }
 ],
 "metadata": {
  "kernelspec": {
   "display_name": "Python 3",
   "language": "python",
   "name": "python3"
  },
  "language_info": {
   "codemirror_mode": {
    "name": "ipython",
    "version": 3
   },
   "file_extension": ".py",
   "mimetype": "text/x-python",
   "name": "python",
   "nbconvert_exporter": "python",
   "pygments_lexer": "ipython3",
   "version": "3.7.0"
  }
 },
 "nbformat": 4,
 "nbformat_minor": 4
}
