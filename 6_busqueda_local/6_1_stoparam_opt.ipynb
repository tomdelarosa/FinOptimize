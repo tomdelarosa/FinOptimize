{
 "cells": [
  {
   "cell_type": "markdown",
   "metadata": {},
   "source": [
    "## Búsqueda Local Estocástica\n",
    "### Optimización de parámetros de indicadores técnicos"
   ]
  },
  {
   "cell_type": "markdown",
   "metadata": {},
   "source": [
    "Este cuaderno muestra como utilizar búsqueda local estocástica para encontrar el mejor conjunto de parámetros del oscilador estocástico para maximizar el rendimiento que habría obtenido sobre un histórico de precios"
   ]
  },
  {
   "cell_type": "code",
   "execution_count": null,
   "metadata": {},
   "outputs": [],
   "source": [
    "import numpy as np \n",
    "import pandas as pd\n",
    "import matplotlib.pyplot as plt\n",
    "import itertools"
   ]
  },
  {
   "cell_type": "markdown",
   "metadata": {},
   "source": [
    "### Datos \n",
    "Trajabajeremos sobre la serie de precios de un activo. Ej. Inditex"
   ]
  },
  {
   "cell_type": "code",
   "execution_count": null,
   "metadata": {},
   "outputs": [],
   "source": [
    "import pickle\n",
    "with open('../data/stock_data.pkl', 'rb') as handle:\n",
    "    stock_data = pickle.load(handle)"
   ]
  },
  {
   "cell_type": "code",
   "execution_count": null,
   "metadata": {},
   "outputs": [],
   "source": [
    "stock_series = stock_data['ITX'].close"
   ]
  },
  {
   "cell_type": "code",
   "execution_count": null,
   "metadata": {},
   "outputs": [],
   "source": [
    "stock_series.plot()"
   ]
  },
  {
   "cell_type": "markdown",
   "metadata": {},
   "source": [
    "___"
   ]
  },
  {
   "cell_type": "markdown",
   "metadata": {},
   "source": [
    "**Oscilador estocástico**"
   ]
  },
  {
   "cell_type": "code",
   "execution_count": null,
   "metadata": {},
   "outputs": [],
   "source": [
    "def min_max_scale(s):\n",
    "    \"\"\"\n",
    "    Calcula para un vector s su normalización en el rango [0, 1]\n",
    "    \"\"\"\n",
    "    return (s[-1] - np.min(s)) / (np.max(s) - np.min(s))"
   ]
  },
  {
   "cell_type": "code",
   "execution_count": null,
   "metadata": {},
   "outputs": [],
   "source": [
    "def stochastic_osc(s, win, lag):\n",
    "    \"\"\"\n",
    "    Calcula el valor del oscilador estocástico\n",
    "     1. calcula la posición relativa del precio en una ventana temporal\n",
    "     2. Suaviza la señal anterior haciendo una media móvil, con tamaño inferior al de la ventana\n",
    "    \"\"\"\n",
    "    so_raw = s.rolling(window=win).apply(min_max_scale, raw=True)\n",
    "    so = so_raw.rolling(window=lag).mean()\n",
    "    return so  "
   ]
  },
  {
   "cell_type": "code",
   "execution_count": null,
   "metadata": {},
   "outputs": [],
   "source": [
    "def stochastic_osc_signal(s, win=14, lag=3, obought=0.8, osold=0.2):\n",
    "    \"\"\"\n",
    "    Calcula el estado de inversión \"dentro\" (1) o \"fuera\" (0) siguiendo\n",
    "    la señal del oscilador estocástico. Esto es:\n",
    "    - Se compra cuando se cruza de forma ascendente el umbral de sobreventa\n",
    "    - Se vende cuando se cruza de forma descendente el umbral de sobrecompra\n",
    "    \"\"\"\n",
    "    states = pd.Series(np.zeros(s.shape[0]), index=s.index)\n",
    "    so = stochastic_osc(s, win, lag)\n",
    "    if so.iloc[0] > osold:\n",
    "        states.iloc[:1] = 1\n",
    "        curr = 1\n",
    "    else:\n",
    "        curr = 0\n",
    "    \n",
    "    for i in range(s.shape[0] - 2):\n",
    "        if so.iloc[i] < osold and so.iloc[i+1] >= osold:\n",
    "            curr = 1\n",
    "        elif so.iloc[i] > obought and so.iloc[i+1] <= obought: \n",
    "            curr = 0\n",
    "        states.iloc[i+2] = curr\n",
    "    \n",
    "    return states\n",
    "\n",
    "def state_returns(price, states):\n",
    "    \"\"\" Calcula para una serie y unos estados de \n",
    "    estar dentro fuera, cual es el retorno total\n",
    "    correspondiente.\n",
    "    Se debe tener el mismo Index de pandas \n",
    "    \"\"\"\n",
    "    log_ret = np.log(price).diff()\n",
    "    log_ret.iloc[0] = 0\n",
    "    \n",
    "    in_rets = log_ret * states\n",
    "    total_log_ret = in_rets.sum()\n",
    "    simple_ret = np.exp(total_log_ret) - 1\n",
    "    return simple_ret\n",
    "    "
   ]
  },
  {
   "cell_type": "code",
   "execution_count": null,
   "metadata": {},
   "outputs": [],
   "source": [
    "def backtest_so_returns(vseries, win=14, lag=3, obought=0.8, osold=0.2):\n",
    "    \"\"\"\n",
    "    A partir de una serie de precios, calcula el rendimiento del oscilador estocástico \n",
    "    con los parámetros correspondientes\n",
    "    \"\"\"\n",
    "    f_states = stochastic_osc_signal(\n",
    "        vseries, \n",
    "        win=win, \n",
    "        lag=lag,\n",
    "        obought=obought,\n",
    "        osold=osold)\n",
    "    so_return = state_returns(vseries, f_states)\n",
    "    return so_return"
   ]
  },
  {
   "cell_type": "code",
   "execution_count": null,
   "metadata": {},
   "outputs": [],
   "source": [
    "backtest_so_returns(stock_series)"
   ]
  },
  {
   "cell_type": "markdown",
   "metadata": {},
   "source": [
    "### Búsqueda Aleatoria\n",
    "Primero realizaremos una búsqueda aleatoria en un espacio de parámetros para ver las capacidades\n",
    "de una exploración **sin un algoritmo** de búsqueda especializado."
   ]
  },
  {
   "cell_type": "code",
   "execution_count": null,
   "metadata": {},
   "outputs": [],
   "source": [
    "obought_space = np.linspace(0.51,0.98,48)\n",
    "obought_space"
   ]
  },
  {
   "cell_type": "code",
   "execution_count": null,
   "metadata": {},
   "outputs": [],
   "source": [
    "osold_space = np.linspace(0.02,0.49,48)\n",
    "osold_space"
   ]
  },
  {
   "cell_type": "code",
   "execution_count": null,
   "metadata": {},
   "outputs": [],
   "source": [
    "win_space = np.arange(10,120)\n",
    "win_space"
   ]
  },
  {
   "cell_type": "code",
   "execution_count": null,
   "metadata": {},
   "outputs": [],
   "source": [
    "lag_space = np.arange(1,50)\n",
    "lag_space"
   ]
  },
  {
   "cell_type": "code",
   "execution_count": null,
   "metadata": {},
   "outputs": [],
   "source": [
    "# numero de estados posibles en el espacio de parametros que hemos definido\n",
    "win_space.shape[0]*lag_space.shape[0]*obought_space.shape[0]*osold_space.shape[0]"
   ]
  },
  {
   "cell_type": "code",
   "execution_count": null,
   "metadata": {},
   "outputs": [],
   "source": [
    "# A partir del espacio de parámetros que hemos definido anteriormente\n",
    "# podemos generar set de parametros aleatorios, solo con la condición\n",
    "# que el lag sea menor que la ventana\n",
    "def rand_state():\n",
    "    win = np.random.choice(win_space)\n",
    "    avail_lag = lag_space[lag_space < win]\n",
    "    \n",
    "    state =  {\n",
    "        'win': win,\n",
    "        'lag': np.random.choice(avail_lag), \n",
    "        'obought':np.random.choice(obought_space), \n",
    "        'osold':np.random.choice(osold_space)\n",
    "    }\n",
    "    return state"
   ]
  },
  {
   "cell_type": "code",
   "execution_count": null,
   "metadata": {},
   "outputs": [],
   "source": [
    "rstate = rand_state()\n",
    "rstate "
   ]
  },
  {
   "cell_type": "code",
   "execution_count": null,
   "metadata": {},
   "outputs": [],
   "source": [
    "# rendimiento sobre los parámetros aleatorios\n",
    "backtest_so_returns(stock_series, **rstate)"
   ]
  },
  {
   "cell_type": "markdown",
   "metadata": {},
   "source": [
    "Generaremos estados n aleatorios y guardaremos el máximo obtenido hasta el momento"
   ]
  },
  {
   "cell_type": "code",
   "execution_count": null,
   "metadata": {},
   "outputs": [],
   "source": [
    "n = 200\n",
    "best_return = -1\n",
    "for i in range(n):\n",
    "    i_state = rand_state()\n",
    "    i_return = backtest_so_returns(stock_series, **i_state)\n",
    "    if i_return > best_return:\n",
    "        best_return = i_return\n",
    "        print (f'{i}: return:{best_return} -->{i_state}')\n",
    "    "
   ]
  },
  {
   "cell_type": "markdown",
   "metadata": {},
   "source": [
    "___"
   ]
  },
  {
   "cell_type": "markdown",
   "metadata": {},
   "source": [
    "### Búsqueda Local Estocástica\n",
    "En este apartado utilizaremos técnicas de SLS para mejorar la exploración sobre \n",
    "el conjunto de parámetros"
   ]
  },
  {
   "cell_type": "markdown",
   "metadata": {},
   "source": [
    "Primero tenemos que definir una función que calcula la \"vencidad\" de un nodo, esto es,\n",
    "el conjunto de estados a los que podríamos movernos en un paso de la búsqueda"
   ]
  },
  {
   "cell_type": "code",
   "execution_count": null,
   "metadata": {},
   "outputs": [],
   "source": [
    "def sucesores(params):\n",
    "    min_win, max_win=10, 120\n",
    "    min_lag, max_lag=1, 50\n",
    "    min_ob, max_ob=0.51,0.98\n",
    "    min_os, max_os=0.02,0.49\n",
    "    \n",
    "    \n",
    "     # win=14, lag=3, obought=0.8, osold=0.2\n",
    "    succ = []\n",
    "    s = params.copy()\n",
    "    if s['win'] < max_win:\n",
    "        s['win'] += 1\n",
    "        succ.append(s)\n",
    "        \n",
    "    s = params.copy()\n",
    "    if s['win'] > min_win:\n",
    "        s['win'] -= 1\n",
    "        succ.append(s)\n",
    "        \n",
    "    s = params.copy()\n",
    "    if s['lag'] < max_lag and s['lag']+1 < s['win']:\n",
    "        s['lag'] += 1\n",
    "        succ.append(s)\n",
    "        \n",
    "    s = params.copy()\n",
    "    if s['lag'] < max_lag:\n",
    "        s['lag'] -= 1\n",
    "        succ.append(s)\n",
    "    \n",
    "    s = params.copy()\n",
    "    if s['obought'] < max_ob:\n",
    "        s['obought'] += 0.02\n",
    "        succ.append(s)\n",
    "    \n",
    "    s = params.copy()\n",
    "    if s['obought'] > min_ob:\n",
    "        s['obought'] -= 0.02\n",
    "        succ.append(s)\n",
    "    \n",
    "    s = params.copy()\n",
    "    if s['osold'] < max_os:\n",
    "        s['osold'] += 0.02\n",
    "        succ.append(s)\n",
    "    \n",
    "    s = params.copy()\n",
    "    if s['osold'] > min_os:\n",
    "        s['osold'] -= 0.02\n",
    "        succ.append(s)\n",
    "        \n",
    "    return succ"
   ]
  },
  {
   "cell_type": "code",
   "execution_count": null,
   "metadata": {},
   "outputs": [],
   "source": [
    "root = {\n",
    "    'win':15,\n",
    "    'lag':3, \n",
    "    'obought':0.8, \n",
    "    'osold':0.2\n",
    "}"
   ]
  },
  {
   "cell_type": "code",
   "execution_count": null,
   "metadata": {},
   "outputs": [],
   "source": [
    "sucesores(root)"
   ]
  },
  {
   "cell_type": "code",
   "execution_count": null,
   "metadata": {},
   "outputs": [],
   "source": [
    "def iterative_improvement_so(vseries, params, niter=30):\n",
    "    state = params\n",
    "    hbase = backtest_so_returns(vseries, **state)\n",
    "    i = 0\n",
    "    while i < niter:\n",
    "        i = i +1\n",
    "        succ = sucesores(state)\n",
    "        h_vals = [backtest_so_returns(vseries, **c_i) for c_i in succ]\n",
    "        best_idx = h_vals.index(max(h_vals))\n",
    "        best_succ = succ[best_idx]\n",
    "        best_h = h_vals[best_idx]\n",
    "        #print(f\"best_h {round(best_h,3)}\")\n",
    "        if best_h > hbase:\n",
    "            state = best_succ\n",
    "            hbase = best_h\n",
    "            print (f'{i}: return:{best_h} -->{best_succ}')\n",
    "        else:\n",
    "            #print(\"no better successor\")\n",
    "            break\n",
    "            \n",
    "    return state, hbase\n"
   ]
  },
  {
   "cell_type": "code",
   "execution_count": null,
   "metadata": {},
   "outputs": [],
   "source": [
    "init_state = rand_state()\n",
    "iterative_improvement_so(stock_series, init_state, niter=30)"
   ]
  },
  {
   "cell_type": "code",
   "execution_count": null,
   "metadata": {},
   "outputs": [],
   "source": [
    "def sortedrestart_iimprovements_so(vseries, restarts=20):\n",
    "    init_states = [rand_state() for i in range(restarts)]  \n",
    "    h_vals = [backtest_so_returns(vseries, **c_i) for c_i in init_states]\n",
    "    h_sorted_idx = sorted(range(len(h_vals)), \n",
    "                          key=lambda k: h_vals[k],\n",
    "                          reverse=True)\n",
    "    \n",
    "    global_best = -1 \n",
    "\n",
    "    for i, idx_sorted in enumerate(h_sorted_idx):\n",
    "        iparams = init_states[idx_sorted]\n",
    "        print(f\"New restart {i}...\")\n",
    "        best_restart, h_restart = iterative_improvement_so(stock_series, iparams, 10)\n",
    "        \n",
    "        if h_restart > global_best:\n",
    "            global_best = h_restart\n",
    "            global_state = best_restart\n",
    "            print (f'{i}: Global improvement, return:{h_restart} -->{best_restart}')\n",
    "        \n",
    "    return global_state, global_best\n"
   ]
  },
  {
   "cell_type": "code",
   "execution_count": null,
   "metadata": {},
   "outputs": [],
   "source": [
    "res_res = sortedrestart_iimprovements_so(stock_series, restarts=25)    \n"
   ]
  },
  {
   "cell_type": "code",
   "execution_count": null,
   "metadata": {},
   "outputs": [],
   "source": [
    "res_res"
   ]
  },
  {
   "cell_type": "code",
   "execution_count": null,
   "metadata": {},
   "outputs": [],
   "source": []
  }
 ],
 "metadata": {
  "kernelspec": {
   "display_name": "Python 3",
   "language": "python",
   "name": "python3"
  },
  "language_info": {
   "codemirror_mode": {
    "name": "ipython",
    "version": 3
   },
   "file_extension": ".py",
   "mimetype": "text/x-python",
   "name": "python",
   "nbconvert_exporter": "python",
   "pygments_lexer": "ipython3",
   "version": "3.7.0"
  }
 },
 "nbformat": 4,
 "nbformat_minor": 4
}
